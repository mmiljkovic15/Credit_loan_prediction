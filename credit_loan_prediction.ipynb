{
 "cells": [
  {
   "cell_type": "markdown",
   "metadata": {},
   "source": [
    "# Opis i razumevanje podataka"
   ]
  },
  {
   "cell_type": "code",
   "execution_count": 1,
   "metadata": {
    "collapsed": true
   },
   "outputs": [],
   "source": [
    "import numpy as np\n",
    "import pandas as pd\n",
    "\n",
    "data = pd.read_csv('kredit.csv')"
   ]
  },
  {
   "cell_type": "code",
   "execution_count": 2,
   "metadata": {
    "collapsed": true
   },
   "outputs": [],
   "source": [
    "data.columns\n",
    "data.drop(['Unnamed: 0'], axis=1, inplace=True)"
   ]
  },
  {
   "cell_type": "code",
   "execution_count": 3,
   "metadata": {},
   "outputs": [
    {
     "data": {
      "text/html": [
       "<div>\n",
       "<style>\n",
       "    .dataframe thead tr:only-child th {\n",
       "        text-align: right;\n",
       "    }\n",
       "\n",
       "    .dataframe thead th {\n",
       "        text-align: left;\n",
       "    }\n",
       "\n",
       "    .dataframe tbody tr th {\n",
       "        vertical-align: top;\n",
       "    }\n",
       "</style>\n",
       "<table border=\"1\" class=\"dataframe\">\n",
       "  <thead>\n",
       "    <tr style=\"text-align: right;\">\n",
       "      <th></th>\n",
       "      <th>SeriousDlqin2yrs</th>\n",
       "      <th>RevolvingUtilizationOfUnsecuredLines</th>\n",
       "      <th>age</th>\n",
       "      <th>NumberOfTime30-59DaysPastDueNotWorse</th>\n",
       "      <th>DebtRatio</th>\n",
       "      <th>MonthlyIncome</th>\n",
       "      <th>NumberOfOpenCreditLinesAndLoans</th>\n",
       "      <th>NumberOfTimes90DaysLate</th>\n",
       "      <th>NumberRealEstateLoansOrLines</th>\n",
       "      <th>NumberOfTime60-89DaysPastDueNotWorse</th>\n",
       "      <th>NumberOfDependents</th>\n",
       "    </tr>\n",
       "  </thead>\n",
       "  <tbody>\n",
       "    <tr>\n",
       "      <th>0</th>\n",
       "      <td>1</td>\n",
       "      <td>0.766127</td>\n",
       "      <td>45</td>\n",
       "      <td>2</td>\n",
       "      <td>0.802982</td>\n",
       "      <td>9120.0</td>\n",
       "      <td>13</td>\n",
       "      <td>0</td>\n",
       "      <td>6</td>\n",
       "      <td>0</td>\n",
       "      <td>2.0</td>\n",
       "    </tr>\n",
       "    <tr>\n",
       "      <th>1</th>\n",
       "      <td>0</td>\n",
       "      <td>0.957151</td>\n",
       "      <td>40</td>\n",
       "      <td>0</td>\n",
       "      <td>0.121876</td>\n",
       "      <td>2600.0</td>\n",
       "      <td>4</td>\n",
       "      <td>0</td>\n",
       "      <td>0</td>\n",
       "      <td>0</td>\n",
       "      <td>1.0</td>\n",
       "    </tr>\n",
       "    <tr>\n",
       "      <th>2</th>\n",
       "      <td>0</td>\n",
       "      <td>0.658180</td>\n",
       "      <td>38</td>\n",
       "      <td>1</td>\n",
       "      <td>0.085113</td>\n",
       "      <td>3042.0</td>\n",
       "      <td>2</td>\n",
       "      <td>1</td>\n",
       "      <td>0</td>\n",
       "      <td>0</td>\n",
       "      <td>0.0</td>\n",
       "    </tr>\n",
       "    <tr>\n",
       "      <th>3</th>\n",
       "      <td>0</td>\n",
       "      <td>0.233810</td>\n",
       "      <td>30</td>\n",
       "      <td>0</td>\n",
       "      <td>0.036050</td>\n",
       "      <td>3300.0</td>\n",
       "      <td>5</td>\n",
       "      <td>0</td>\n",
       "      <td>0</td>\n",
       "      <td>0</td>\n",
       "      <td>0.0</td>\n",
       "    </tr>\n",
       "    <tr>\n",
       "      <th>4</th>\n",
       "      <td>0</td>\n",
       "      <td>0.907239</td>\n",
       "      <td>49</td>\n",
       "      <td>1</td>\n",
       "      <td>0.024926</td>\n",
       "      <td>63588.0</td>\n",
       "      <td>7</td>\n",
       "      <td>0</td>\n",
       "      <td>1</td>\n",
       "      <td>0</td>\n",
       "      <td>0.0</td>\n",
       "    </tr>\n",
       "  </tbody>\n",
       "</table>\n",
       "</div>"
      ],
      "text/plain": [
       "   SeriousDlqin2yrs  RevolvingUtilizationOfUnsecuredLines  age  \\\n",
       "0                 1                              0.766127   45   \n",
       "1                 0                              0.957151   40   \n",
       "2                 0                              0.658180   38   \n",
       "3                 0                              0.233810   30   \n",
       "4                 0                              0.907239   49   \n",
       "\n",
       "   NumberOfTime30-59DaysPastDueNotWorse  DebtRatio  MonthlyIncome  \\\n",
       "0                                     2   0.802982         9120.0   \n",
       "1                                     0   0.121876         2600.0   \n",
       "2                                     1   0.085113         3042.0   \n",
       "3                                     0   0.036050         3300.0   \n",
       "4                                     1   0.024926        63588.0   \n",
       "\n",
       "   NumberOfOpenCreditLinesAndLoans  NumberOfTimes90DaysLate  \\\n",
       "0                               13                        0   \n",
       "1                                4                        0   \n",
       "2                                2                        1   \n",
       "3                                5                        0   \n",
       "4                                7                        0   \n",
       "\n",
       "   NumberRealEstateLoansOrLines  NumberOfTime60-89DaysPastDueNotWorse  \\\n",
       "0                             6                                     0   \n",
       "1                             0                                     0   \n",
       "2                             0                                     0   \n",
       "3                             0                                     0   \n",
       "4                             1                                     0   \n",
       "\n",
       "   NumberOfDependents  \n",
       "0                 2.0  \n",
       "1                 1.0  \n",
       "2                 0.0  \n",
       "3                 0.0  \n",
       "4                 0.0  "
      ]
     },
     "execution_count": 3,
     "metadata": {},
     "output_type": "execute_result"
    }
   ],
   "source": [
    "data.head()"
   ]
  },
  {
   "cell_type": "code",
   "execution_count": 4,
   "metadata": {},
   "outputs": [
    {
     "data": {
      "text/html": [
       "<div>\n",
       "<style>\n",
       "    .dataframe thead tr:only-child th {\n",
       "        text-align: right;\n",
       "    }\n",
       "\n",
       "    .dataframe thead th {\n",
       "        text-align: left;\n",
       "    }\n",
       "\n",
       "    .dataframe tbody tr th {\n",
       "        vertical-align: top;\n",
       "    }\n",
       "</style>\n",
       "<table border=\"1\" class=\"dataframe\">\n",
       "  <thead>\n",
       "    <tr style=\"text-align: right;\">\n",
       "      <th></th>\n",
       "      <th>SeriousDlqin2yrs</th>\n",
       "      <th>RevolvingUtilizationOfUnsecuredLines</th>\n",
       "      <th>age</th>\n",
       "      <th>NumberOfTime30-59DaysPastDueNotWorse</th>\n",
       "      <th>DebtRatio</th>\n",
       "      <th>MonthlyIncome</th>\n",
       "      <th>NumberOfOpenCreditLinesAndLoans</th>\n",
       "      <th>NumberOfTimes90DaysLate</th>\n",
       "      <th>NumberRealEstateLoansOrLines</th>\n",
       "      <th>NumberOfTime60-89DaysPastDueNotWorse</th>\n",
       "      <th>NumberOfDependents</th>\n",
       "    </tr>\n",
       "  </thead>\n",
       "  <tbody>\n",
       "    <tr>\n",
       "      <th>count</th>\n",
       "      <td>150000.000000</td>\n",
       "      <td>150000.000000</td>\n",
       "      <td>150000.000000</td>\n",
       "      <td>150000.000000</td>\n",
       "      <td>150000.000000</td>\n",
       "      <td>1.202690e+05</td>\n",
       "      <td>150000.000000</td>\n",
       "      <td>150000.000000</td>\n",
       "      <td>150000.000000</td>\n",
       "      <td>150000.000000</td>\n",
       "      <td>146076.000000</td>\n",
       "    </tr>\n",
       "    <tr>\n",
       "      <th>mean</th>\n",
       "      <td>0.066840</td>\n",
       "      <td>6.048438</td>\n",
       "      <td>52.295207</td>\n",
       "      <td>0.421033</td>\n",
       "      <td>353.005076</td>\n",
       "      <td>6.670221e+03</td>\n",
       "      <td>8.452760</td>\n",
       "      <td>0.265973</td>\n",
       "      <td>1.018240</td>\n",
       "      <td>0.240387</td>\n",
       "      <td>0.757222</td>\n",
       "    </tr>\n",
       "    <tr>\n",
       "      <th>std</th>\n",
       "      <td>0.249746</td>\n",
       "      <td>249.755371</td>\n",
       "      <td>14.771866</td>\n",
       "      <td>4.192781</td>\n",
       "      <td>2037.818523</td>\n",
       "      <td>1.438467e+04</td>\n",
       "      <td>5.145951</td>\n",
       "      <td>4.169304</td>\n",
       "      <td>1.129771</td>\n",
       "      <td>4.155179</td>\n",
       "      <td>1.115086</td>\n",
       "    </tr>\n",
       "    <tr>\n",
       "      <th>min</th>\n",
       "      <td>0.000000</td>\n",
       "      <td>0.000000</td>\n",
       "      <td>0.000000</td>\n",
       "      <td>0.000000</td>\n",
       "      <td>0.000000</td>\n",
       "      <td>0.000000e+00</td>\n",
       "      <td>0.000000</td>\n",
       "      <td>0.000000</td>\n",
       "      <td>0.000000</td>\n",
       "      <td>0.000000</td>\n",
       "      <td>0.000000</td>\n",
       "    </tr>\n",
       "    <tr>\n",
       "      <th>25%</th>\n",
       "      <td>0.000000</td>\n",
       "      <td>0.029867</td>\n",
       "      <td>41.000000</td>\n",
       "      <td>0.000000</td>\n",
       "      <td>0.175074</td>\n",
       "      <td>3.400000e+03</td>\n",
       "      <td>5.000000</td>\n",
       "      <td>0.000000</td>\n",
       "      <td>0.000000</td>\n",
       "      <td>0.000000</td>\n",
       "      <td>0.000000</td>\n",
       "    </tr>\n",
       "    <tr>\n",
       "      <th>50%</th>\n",
       "      <td>0.000000</td>\n",
       "      <td>0.154181</td>\n",
       "      <td>52.000000</td>\n",
       "      <td>0.000000</td>\n",
       "      <td>0.366508</td>\n",
       "      <td>5.400000e+03</td>\n",
       "      <td>8.000000</td>\n",
       "      <td>0.000000</td>\n",
       "      <td>1.000000</td>\n",
       "      <td>0.000000</td>\n",
       "      <td>0.000000</td>\n",
       "    </tr>\n",
       "    <tr>\n",
       "      <th>75%</th>\n",
       "      <td>0.000000</td>\n",
       "      <td>0.559046</td>\n",
       "      <td>63.000000</td>\n",
       "      <td>0.000000</td>\n",
       "      <td>0.868254</td>\n",
       "      <td>8.249000e+03</td>\n",
       "      <td>11.000000</td>\n",
       "      <td>0.000000</td>\n",
       "      <td>2.000000</td>\n",
       "      <td>0.000000</td>\n",
       "      <td>1.000000</td>\n",
       "    </tr>\n",
       "    <tr>\n",
       "      <th>max</th>\n",
       "      <td>1.000000</td>\n",
       "      <td>50708.000000</td>\n",
       "      <td>109.000000</td>\n",
       "      <td>98.000000</td>\n",
       "      <td>329664.000000</td>\n",
       "      <td>3.008750e+06</td>\n",
       "      <td>58.000000</td>\n",
       "      <td>98.000000</td>\n",
       "      <td>54.000000</td>\n",
       "      <td>98.000000</td>\n",
       "      <td>20.000000</td>\n",
       "    </tr>\n",
       "  </tbody>\n",
       "</table>\n",
       "</div>"
      ],
      "text/plain": [
       "       SeriousDlqin2yrs  RevolvingUtilizationOfUnsecuredLines            age  \\\n",
       "count     150000.000000                         150000.000000  150000.000000   \n",
       "mean           0.066840                              6.048438      52.295207   \n",
       "std            0.249746                            249.755371      14.771866   \n",
       "min            0.000000                              0.000000       0.000000   \n",
       "25%            0.000000                              0.029867      41.000000   \n",
       "50%            0.000000                              0.154181      52.000000   \n",
       "75%            0.000000                              0.559046      63.000000   \n",
       "max            1.000000                          50708.000000     109.000000   \n",
       "\n",
       "       NumberOfTime30-59DaysPastDueNotWorse      DebtRatio  MonthlyIncome  \\\n",
       "count                         150000.000000  150000.000000   1.202690e+05   \n",
       "mean                               0.421033     353.005076   6.670221e+03   \n",
       "std                                4.192781    2037.818523   1.438467e+04   \n",
       "min                                0.000000       0.000000   0.000000e+00   \n",
       "25%                                0.000000       0.175074   3.400000e+03   \n",
       "50%                                0.000000       0.366508   5.400000e+03   \n",
       "75%                                0.000000       0.868254   8.249000e+03   \n",
       "max                               98.000000  329664.000000   3.008750e+06   \n",
       "\n",
       "       NumberOfOpenCreditLinesAndLoans  NumberOfTimes90DaysLate  \\\n",
       "count                    150000.000000            150000.000000   \n",
       "mean                          8.452760                 0.265973   \n",
       "std                           5.145951                 4.169304   \n",
       "min                           0.000000                 0.000000   \n",
       "25%                           5.000000                 0.000000   \n",
       "50%                           8.000000                 0.000000   \n",
       "75%                          11.000000                 0.000000   \n",
       "max                          58.000000                98.000000   \n",
       "\n",
       "       NumberRealEstateLoansOrLines  NumberOfTime60-89DaysPastDueNotWorse  \\\n",
       "count                 150000.000000                         150000.000000   \n",
       "mean                       1.018240                              0.240387   \n",
       "std                        1.129771                              4.155179   \n",
       "min                        0.000000                              0.000000   \n",
       "25%                        0.000000                              0.000000   \n",
       "50%                        1.000000                              0.000000   \n",
       "75%                        2.000000                              0.000000   \n",
       "max                       54.000000                             98.000000   \n",
       "\n",
       "       NumberOfDependents  \n",
       "count       146076.000000  \n",
       "mean             0.757222  \n",
       "std              1.115086  \n",
       "min              0.000000  \n",
       "25%              0.000000  \n",
       "50%              0.000000  \n",
       "75%              1.000000  \n",
       "max             20.000000  "
      ]
     },
     "execution_count": 4,
     "metadata": {},
     "output_type": "execute_result"
    }
   ],
   "source": [
    "data.describe()"
   ]
  },
  {
   "cell_type": "code",
   "execution_count": 5,
   "metadata": {},
   "outputs": [
    {
     "data": {
      "text/plain": [
       "(150000, 11)"
      ]
     },
     "execution_count": 5,
     "metadata": {},
     "output_type": "execute_result"
    }
   ],
   "source": [
    "data.shape"
   ]
  },
  {
   "cell_type": "code",
   "execution_count": 6,
   "metadata": {},
   "outputs": [
    {
     "data": {
      "text/plain": [
       "True"
      ]
     },
     "execution_count": 6,
     "metadata": {},
     "output_type": "execute_result"
    }
   ],
   "source": [
    "data.isnull().values.any() #ima nedostajucih vrednosti"
   ]
  },
  {
   "cell_type": "code",
   "execution_count": 7,
   "metadata": {},
   "outputs": [
    {
     "name": "stdout",
     "output_type": "stream",
     "text": [
      "<class 'pandas.core.frame.DataFrame'>\n",
      "RangeIndex: 150000 entries, 0 to 149999\n",
      "Data columns (total 11 columns):\n",
      "SeriousDlqin2yrs                        150000 non-null int64\n",
      "RevolvingUtilizationOfUnsecuredLines    150000 non-null float64\n",
      "age                                     150000 non-null int64\n",
      "NumberOfTime30-59DaysPastDueNotWorse    150000 non-null int64\n",
      "DebtRatio                               150000 non-null float64\n",
      "MonthlyIncome                           120269 non-null float64\n",
      "NumberOfOpenCreditLinesAndLoans         150000 non-null int64\n",
      "NumberOfTimes90DaysLate                 150000 non-null int64\n",
      "NumberRealEstateLoansOrLines            150000 non-null int64\n",
      "NumberOfTime60-89DaysPastDueNotWorse    150000 non-null int64\n",
      "NumberOfDependents                      146076 non-null float64\n",
      "dtypes: float64(4), int64(7)\n",
      "memory usage: 12.6 MB\n"
     ]
    }
   ],
   "source": [
    "data.info() #vidimo da ima nedostajucih vrednosti u kolonama MonthlyIncome i NumberOfDependents"
   ]
  },
  {
   "cell_type": "code",
   "execution_count": 8,
   "metadata": {
    "collapsed": true
   },
   "outputs": [],
   "source": [
    "data = data.fillna(0) #popunjavamo nedostajuce vrednosti"
   ]
  },
  {
   "cell_type": "code",
   "execution_count": 9,
   "metadata": {},
   "outputs": [
    {
     "data": {
      "text/plain": [
       "False"
      ]
     },
     "execution_count": 9,
     "metadata": {},
     "output_type": "execute_result"
    }
   ],
   "source": [
    "data.isnull().values.any() #nema vise nedostajucih vrednosti"
   ]
  },
  {
   "cell_type": "code",
   "execution_count": 10,
   "metadata": {
    "collapsed": true
   },
   "outputs": [],
   "source": [
    "data['SeriousDlqin2yrs'] = data['SeriousDlqin2yrs'].astype('category',copy=False) #prebacivanje target varijable u kategoricku"
   ]
  },
  {
   "cell_type": "code",
   "execution_count": 11,
   "metadata": {
    "collapsed": true
   },
   "outputs": [],
   "source": [
    "data['NumberOfDependents']=data['NumberOfDependents'].astype('int64') # prebacujemo i float varijablu u int"
   ]
  },
  {
   "cell_type": "code",
   "execution_count": 12,
   "metadata": {},
   "outputs": [
    {
     "data": {
      "text/plain": [
       "(150000, 11)"
      ]
     },
     "execution_count": 12,
     "metadata": {},
     "output_type": "execute_result"
    }
   ],
   "source": [
    "data.shape"
   ]
  },
  {
   "cell_type": "code",
   "execution_count": 13,
   "metadata": {},
   "outputs": [
    {
     "data": {
      "text/plain": [
       "0    139974\n",
       "1     10026\n",
       "Name: SeriousDlqin2yrs, dtype: int64"
      ]
     },
     "execution_count": 13,
     "metadata": {},
     "output_type": "execute_result"
    }
   ],
   "source": [
    "data['SeriousDlqin2yrs'].value_counts() #vidimo da postoji veliki disbalans klasa, jer ima mnogo vise onih koji nisu kasnili sa placanjem"
   ]
  },
  {
   "cell_type": "code",
   "execution_count": 14,
   "metadata": {
    "collapsed": true
   },
   "outputs": [],
   "source": [
    "get_ipython().magic('matplotlib inline')\n",
    "import matplotlib.pyplot as plt"
   ]
  },
  {
   "cell_type": "code",
   "execution_count": 15,
   "metadata": {},
   "outputs": [
    {
     "data": {
      "text/plain": [
       "<matplotlib.axes._subplots.AxesSubplot at 0x1db2feae518>"
      ]
     },
     "execution_count": 15,
     "metadata": {},
     "output_type": "execute_result"
    },
    {
     "data": {
      "image/png": "[encoded data removed]",
      "text/plain": [
       "<matplotlib.figure.Figure at 0x1db2eac3cc0>"
      ]
     },
     "metadata": {},
     "output_type": "display_data"
    }
   ],
   "source": [
    "data['age'].hist() #vidimo da postoji problem u raspodeli kod atributa age"
   ]
  },
  {
   "cell_type": "code",
   "execution_count": 16,
   "metadata": {
    "collapsed": true
   },
   "outputs": [],
   "source": [
    "data = data[data['age']>18] #izbacujemo opservacije gde ljudi imaju manje od 18 godina (verovatno su autlejeri)"
   ]
  },
  {
   "cell_type": "code",
   "execution_count": 17,
   "metadata": {},
   "outputs": [
    {
     "data": {
      "text/plain": [
       "<matplotlib.axes._subplots.AxesSubplot at 0x1db2f77bb00>"
      ]
     },
     "execution_count": 17,
     "metadata": {},
     "output_type": "execute_result"
    },
    {
     "data": {
      "image/png": "[encoded data removed]",
      "text/plain": [
       "<matplotlib.figure.Figure at 0x1db2dd9a5c0>"
      ]
     },
     "metadata": {},
     "output_type": "display_data"
    }
   ],
   "source": [
    "data['age'].hist() #najveci broj ispitanika ima izmedju 40 i 60 godina\n"
   ]
  },
  {
   "cell_type": "code",
   "execution_count": 18,
   "metadata": {},
   "outputs": [
    {
     "data": {
      "text/plain": [
       "<matplotlib.axes._subplots.AxesSubplot at 0x1db311432b0>"
      ]
     },
     "execution_count": 18,
     "metadata": {},
     "output_type": "execute_result"
    },
    {
     "data": {
      "image/png": "[encoded data removed]",
      "text/plain": [
       "<matplotlib.figure.Figure at 0x1db2ec68d68>"
      ]
     },
     "metadata": {},
     "output_type": "display_data"
    }
   ],
   "source": [
    "data['NumberOfOpenCreditLinesAndLoans'].hist() #najveci broj lica ima izmedju 5 i 10 kredita"
   ]
  },
  {
   "cell_type": "code",
   "execution_count": 19,
   "metadata": {},
   "outputs": [
    {
     "data": {
      "text/plain": [
       "Text(0,0.5,'Number of 90 days late')"
      ]
     },
     "execution_count": 19,
     "metadata": {},
     "output_type": "execute_result"
    },
    {
     "data": {
      "image/png": "[encoded data removed]",
      "text/plain": [
       "<matplotlib.figure.Figure at 0x1db2ec8f400>"
      ]
     },
     "metadata": {},
     "output_type": "display_data"
    }
   ],
   "source": [
    "plt.scatter(data['NumberOfOpenCreditLinesAndLoans'], data['NumberOfTimes90DaysLate'])\n",
    "plt.xlabel('Number of credits')\n",
    "plt.ylabel('Number of 90 days late') #ovi sto na pocetku uzmu vise kredita teze vracaju"
   ]
  },
  {
   "cell_type": "code",
   "execution_count": 20,
   "metadata": {},
   "outputs": [
    {
     "data": {
      "image/png": "[encoded data removed]",
      "text/plain": [
       "<matplotlib.figure.Figure at 0x1db2ef788d0>"
      ]
     },
     "metadata": {},
     "output_type": "display_data"
    }
   ],
   "source": [
    "from pylab import rcParams\n",
    "rcParams['figure.figsize'] = 60, 20\n",
    "import seaborn as sns\n",
    "numerics = ['int16', 'int32', 'int64', 'float16', 'float32', 'float64'] # uzimamo samo numericke varijable\n",
    "numeric_data = data.select_dtypes(include=numerics) # pravimo dataset samo sa numerickim varijablama\n",
    "\n",
    "corr_matrix = numeric_data.corr() # pravimo korelacionu matricu\n",
    "\n",
    "#sns.heatmap(corr_matrix) # pomocu heatmapa prikazujemo korelacije\n",
    "mask = np.zeros_like(corr_matrix)\n",
    "mask[np.triu_indices_from(mask)] = True\n",
    "with sns.axes_style(\"white\"):\n",
    "    ax = sns.heatmap(corr_matrix, mask=mask, square=True,annot=True, fmt=\".2g\",annot_kws={\"size\": 20})"
   ]
  },
  {
   "cell_type": "code",
   "execution_count": 21,
   "metadata": {},
   "outputs": [
    {
     "data": {
      "text/plain": [
       "0.98700557448417303"
      ]
     },
     "execution_count": 21,
     "metadata": {},
     "output_type": "execute_result"
    }
   ],
   "source": [
    "data['NumberOfTime30-59DaysPastDueNotWorse'].corr(data['NumberOfTime60-89DaysPastDueNotWorse']) # vidimo jaku korelaciju \n",
    "# izmedju atributa NumberOfTime30-59DaysPastDueNotWorse i NumberOfTime60-89DaysPastDueNotWorse"
   ]
  },
  {
   "cell_type": "code",
   "execution_count": 22,
   "metadata": {},
   "outputs": [
    {
     "data": {
      "text/plain": [
       "0.98360281587070175"
      ]
     },
     "execution_count": 22,
     "metadata": {},
     "output_type": "execute_result"
    }
   ],
   "source": [
    "data['NumberOfTime30-59DaysPastDueNotWorse'].corr(data['NumberOfTimes90DaysLate']) # kao i ovih atributa, mozemo utvrditi \n",
    "# jaku korelaciju koja je pozitivna"
   ]
  },
  {
   "cell_type": "code",
   "execution_count": 23,
   "metadata": {},
   "outputs": [
    {
     "data": {
      "text/plain": [
       "0.99279618253116186"
      ]
     },
     "execution_count": 23,
     "metadata": {},
     "output_type": "execute_result"
    }
   ],
   "source": [
    "data['NumberOfTime60-89DaysPastDueNotWorse'].corr(data['NumberOfTimes90DaysLate'])"
   ]
  },
  {
   "cell_type": "code",
   "execution_count": 24,
   "metadata": {},
   "outputs": [
    {
     "data": {
      "text/plain": [
       "0.43396278538868904"
      ]
     },
     "execution_count": 24,
     "metadata": {},
     "output_type": "execute_result"
    }
   ],
   "source": [
    "data['NumberRealEstateLoansOrLines'].corr(data['NumberOfOpenCreditLinesAndLoans']) #  ove korelacije ce biti kasnije bitne\n",
    "# u odredjivanju izlazne varijable"
   ]
  },
  {
   "cell_type": "markdown",
   "metadata": {},
   "source": [
    "# Priprema podataka"
   ]
  },
  {
   "cell_type": "code",
   "execution_count": 25,
   "metadata": {
    "collapsed": true
   },
   "outputs": [],
   "source": [
    "data.shape\n",
    "data['MonthlyOutcome']= data['MonthlyIncome'] * data['DebtRatio'] # pravimo novu varijablu - Rashodi"
   ]
  },
  {
   "cell_type": "code",
   "execution_count": 26,
   "metadata": {
    "collapsed": true
   },
   "outputs": [],
   "source": [
    "data=data[['age', 'NumberOfDependents','RevolvingUtilizationOfUnsecuredLines','MonthlyIncome','MonthlyOutcome','DebtRatio','NumberOfOpenCreditLinesAndLoans',\n",
    "            'NumberRealEstateLoansOrLines','NumberOfTime30-59DaysPastDueNotWorse','NumberOfTime60-89DaysPastDueNotWorse',\n",
    "           'NumberOfTimes90DaysLate','SeriousDlqin2yrs']] # Sortiranje kolona"
   ]
  },
  {
   "cell_type": "code",
   "execution_count": 27,
   "metadata": {},
   "outputs": [
    {
     "data": {
      "text/html": [
       "<div>\n",
       "<style>\n",
       "    .dataframe thead tr:only-child th {\n",
       "        text-align: right;\n",
       "    }\n",
       "\n",
       "    .dataframe thead th {\n",
       "        text-align: left;\n",
       "    }\n",
       "\n",
       "    .dataframe tbody tr th {\n",
       "        vertical-align: top;\n",
       "    }\n",
       "</style>\n",
       "<table border=\"1\" class=\"dataframe\">\n",
       "  <thead>\n",
       "    <tr style=\"text-align: right;\">\n",
       "      <th></th>\n",
       "      <th>age</th>\n",
       "      <th>NumberOfDependents</th>\n",
       "      <th>RevolvingUtilizationOfUnsecuredLines</th>\n",
       "      <th>MonthlyIncome</th>\n",
       "      <th>MonthlyOutcome</th>\n",
       "      <th>DebtRatio</th>\n",
       "      <th>NumberOfOpenCreditLinesAndLoans</th>\n",
       "      <th>NumberRealEstateLoansOrLines</th>\n",
       "      <th>NumberOfTime30-59DaysPastDueNotWorse</th>\n",
       "      <th>NumberOfTime60-89DaysPastDueNotWorse</th>\n",
       "      <th>NumberOfTimes90DaysLate</th>\n",
       "      <th>SeriousDlqin2yrs</th>\n",
       "    </tr>\n",
       "  </thead>\n",
       "  <tbody>\n",
       "    <tr>\n",
       "      <th>0</th>\n",
       "      <td>45</td>\n",
       "      <td>2</td>\n",
       "      <td>0.766127</td>\n",
       "      <td>9120.0</td>\n",
       "      <td>7323.197016</td>\n",
       "      <td>0.802982</td>\n",
       "      <td>13</td>\n",
       "      <td>6</td>\n",
       "      <td>2</td>\n",
       "      <td>0</td>\n",
       "      <td>0</td>\n",
       "      <td>1</td>\n",
       "    </tr>\n",
       "    <tr>\n",
       "      <th>1</th>\n",
       "      <td>40</td>\n",
       "      <td>1</td>\n",
       "      <td>0.957151</td>\n",
       "      <td>2600.0</td>\n",
       "      <td>316.878123</td>\n",
       "      <td>0.121876</td>\n",
       "      <td>4</td>\n",
       "      <td>0</td>\n",
       "      <td>0</td>\n",
       "      <td>0</td>\n",
       "      <td>0</td>\n",
       "      <td>0</td>\n",
       "    </tr>\n",
       "    <tr>\n",
       "      <th>2</th>\n",
       "      <td>38</td>\n",
       "      <td>0</td>\n",
       "      <td>0.658180</td>\n",
       "      <td>3042.0</td>\n",
       "      <td>258.914887</td>\n",
       "      <td>0.085113</td>\n",
       "      <td>2</td>\n",
       "      <td>0</td>\n",
       "      <td>1</td>\n",
       "      <td>0</td>\n",
       "      <td>1</td>\n",
       "      <td>0</td>\n",
       "    </tr>\n",
       "    <tr>\n",
       "      <th>3</th>\n",
       "      <td>30</td>\n",
       "      <td>0</td>\n",
       "      <td>0.233810</td>\n",
       "      <td>3300.0</td>\n",
       "      <td>118.963951</td>\n",
       "      <td>0.036050</td>\n",
       "      <td>5</td>\n",
       "      <td>0</td>\n",
       "      <td>0</td>\n",
       "      <td>0</td>\n",
       "      <td>0</td>\n",
       "      <td>0</td>\n",
       "    </tr>\n",
       "    <tr>\n",
       "      <th>4</th>\n",
       "      <td>49</td>\n",
       "      <td>0</td>\n",
       "      <td>0.907239</td>\n",
       "      <td>63588.0</td>\n",
       "      <td>1584.975094</td>\n",
       "      <td>0.024926</td>\n",
       "      <td>7</td>\n",
       "      <td>1</td>\n",
       "      <td>1</td>\n",
       "      <td>0</td>\n",
       "      <td>0</td>\n",
       "      <td>0</td>\n",
       "    </tr>\n",
       "    <tr>\n",
       "      <th>5</th>\n",
       "      <td>74</td>\n",
       "      <td>1</td>\n",
       "      <td>0.213179</td>\n",
       "      <td>3500.0</td>\n",
       "      <td>1314.624392</td>\n",
       "      <td>0.375607</td>\n",
       "      <td>3</td>\n",
       "      <td>1</td>\n",
       "      <td>0</td>\n",
       "      <td>0</td>\n",
       "      <td>0</td>\n",
       "      <td>0</td>\n",
       "    </tr>\n",
       "    <tr>\n",
       "      <th>6</th>\n",
       "      <td>57</td>\n",
       "      <td>0</td>\n",
       "      <td>0.305682</td>\n",
       "      <td>0.0</td>\n",
       "      <td>5710.000000</td>\n",
       "      <td>5710.000000</td>\n",
       "      <td>8</td>\n",
       "      <td>3</td>\n",
       "      <td>0</td>\n",
       "      <td>0</td>\n",
       "      <td>0</td>\n",
       "      <td>0</td>\n",
       "    </tr>\n",
       "    <tr>\n",
       "      <th>7</th>\n",
       "      <td>39</td>\n",
       "      <td>0</td>\n",
       "      <td>0.754464</td>\n",
       "      <td>3500.0</td>\n",
       "      <td>734.790059</td>\n",
       "      <td>0.209940</td>\n",
       "      <td>8</td>\n",
       "      <td>0</td>\n",
       "      <td>0</td>\n",
       "      <td>0</td>\n",
       "      <td>0</td>\n",
       "      <td>0</td>\n",
       "    </tr>\n",
       "    <tr>\n",
       "      <th>8</th>\n",
       "      <td>27</td>\n",
       "      <td>0</td>\n",
       "      <td>0.116951</td>\n",
       "      <td>0.0</td>\n",
       "      <td>46.000000</td>\n",
       "      <td>46.000000</td>\n",
       "      <td>2</td>\n",
       "      <td>0</td>\n",
       "      <td>0</td>\n",
       "      <td>0</td>\n",
       "      <td>0</td>\n",
       "      <td>0</td>\n",
       "    </tr>\n",
       "    <tr>\n",
       "      <th>9</th>\n",
       "      <td>57</td>\n",
       "      <td>2</td>\n",
       "      <td>0.189169</td>\n",
       "      <td>23684.0</td>\n",
       "      <td>14359.393699</td>\n",
       "      <td>0.606291</td>\n",
       "      <td>9</td>\n",
       "      <td>4</td>\n",
       "      <td>0</td>\n",
       "      <td>0</td>\n",
       "      <td>0</td>\n",
       "      <td>0</td>\n",
       "    </tr>\n",
       "    <tr>\n",
       "      <th>10</th>\n",
       "      <td>30</td>\n",
       "      <td>0</td>\n",
       "      <td>0.644226</td>\n",
       "      <td>2500.0</td>\n",
       "      <td>773.690525</td>\n",
       "      <td>0.309476</td>\n",
       "      <td>5</td>\n",
       "      <td>0</td>\n",
       "      <td>0</td>\n",
       "      <td>0</td>\n",
       "      <td>0</td>\n",
       "      <td>0</td>\n",
       "    </tr>\n",
       "    <tr>\n",
       "      <th>11</th>\n",
       "      <td>51</td>\n",
       "      <td>2</td>\n",
       "      <td>0.018798</td>\n",
       "      <td>6501.0</td>\n",
       "      <td>3455.468469</td>\n",
       "      <td>0.531529</td>\n",
       "      <td>7</td>\n",
       "      <td>2</td>\n",
       "      <td>0</td>\n",
       "      <td>0</td>\n",
       "      <td>0</td>\n",
       "      <td>0</td>\n",
       "    </tr>\n",
       "    <tr>\n",
       "      <th>12</th>\n",
       "      <td>46</td>\n",
       "      <td>2</td>\n",
       "      <td>0.010352</td>\n",
       "      <td>12454.0</td>\n",
       "      <td>3715.701650</td>\n",
       "      <td>0.298354</td>\n",
       "      <td>13</td>\n",
       "      <td>2</td>\n",
       "      <td>0</td>\n",
       "      <td>0</td>\n",
       "      <td>0</td>\n",
       "      <td>0</td>\n",
       "    </tr>\n",
       "    <tr>\n",
       "      <th>13</th>\n",
       "      <td>40</td>\n",
       "      <td>2</td>\n",
       "      <td>0.964673</td>\n",
       "      <td>13700.0</td>\n",
       "      <td>5246.617034</td>\n",
       "      <td>0.382965</td>\n",
       "      <td>9</td>\n",
       "      <td>1</td>\n",
       "      <td>3</td>\n",
       "      <td>1</td>\n",
       "      <td>3</td>\n",
       "      <td>1</td>\n",
       "    </tr>\n",
       "    <tr>\n",
       "      <th>14</th>\n",
       "      <td>76</td>\n",
       "      <td>0</td>\n",
       "      <td>0.019657</td>\n",
       "      <td>0.0</td>\n",
       "      <td>477.000000</td>\n",
       "      <td>477.000000</td>\n",
       "      <td>6</td>\n",
       "      <td>1</td>\n",
       "      <td>0</td>\n",
       "      <td>0</td>\n",
       "      <td>0</td>\n",
       "      <td>0</td>\n",
       "    </tr>\n",
       "    <tr>\n",
       "      <th>15</th>\n",
       "      <td>64</td>\n",
       "      <td>2</td>\n",
       "      <td>0.548458</td>\n",
       "      <td>11362.0</td>\n",
       "      <td>2384.790109</td>\n",
       "      <td>0.209892</td>\n",
       "      <td>7</td>\n",
       "      <td>1</td>\n",
       "      <td>0</td>\n",
       "      <td>0</td>\n",
       "      <td>0</td>\n",
       "      <td>0</td>\n",
       "    </tr>\n",
       "    <tr>\n",
       "      <th>16</th>\n",
       "      <td>78</td>\n",
       "      <td>0</td>\n",
       "      <td>0.061086</td>\n",
       "      <td>0.0</td>\n",
       "      <td>2058.000000</td>\n",
       "      <td>2058.000000</td>\n",
       "      <td>10</td>\n",
       "      <td>2</td>\n",
       "      <td>0</td>\n",
       "      <td>0</td>\n",
       "      <td>0</td>\n",
       "      <td>0</td>\n",
       "    </tr>\n",
       "    <tr>\n",
       "      <th>17</th>\n",
       "      <td>53</td>\n",
       "      <td>0</td>\n",
       "      <td>0.166284</td>\n",
       "      <td>8800.0</td>\n",
       "      <td>1656.811728</td>\n",
       "      <td>0.188274</td>\n",
       "      <td>7</td>\n",
       "      <td>0</td>\n",
       "      <td>0</td>\n",
       "      <td>0</td>\n",
       "      <td>0</td>\n",
       "      <td>0</td>\n",
       "    </tr>\n",
       "    <tr>\n",
       "      <th>18</th>\n",
       "      <td>43</td>\n",
       "      <td>2</td>\n",
       "      <td>0.221813</td>\n",
       "      <td>3280.0</td>\n",
       "      <td>1731.472112</td>\n",
       "      <td>0.527888</td>\n",
       "      <td>7</td>\n",
       "      <td>1</td>\n",
       "      <td>0</td>\n",
       "      <td>0</td>\n",
       "      <td>0</td>\n",
       "      <td>0</td>\n",
       "    </tr>\n",
       "    <tr>\n",
       "      <th>19</th>\n",
       "      <td>25</td>\n",
       "      <td>0</td>\n",
       "      <td>0.602794</td>\n",
       "      <td>333.0</td>\n",
       "      <td>21.934132</td>\n",
       "      <td>0.065868</td>\n",
       "      <td>2</td>\n",
       "      <td>0</td>\n",
       "      <td>0</td>\n",
       "      <td>0</td>\n",
       "      <td>0</td>\n",
       "      <td>0</td>\n",
       "    </tr>\n",
       "    <tr>\n",
       "      <th>20</th>\n",
       "      <td>43</td>\n",
       "      <td>0</td>\n",
       "      <td>0.200923</td>\n",
       "      <td>12300.0</td>\n",
       "      <td>5289.569957</td>\n",
       "      <td>0.430046</td>\n",
       "      <td>10</td>\n",
       "      <td>2</td>\n",
       "      <td>0</td>\n",
       "      <td>0</td>\n",
       "      <td>0</td>\n",
       "      <td>0</td>\n",
       "    </tr>\n",
       "    <tr>\n",
       "      <th>21</th>\n",
       "      <td>38</td>\n",
       "      <td>2</td>\n",
       "      <td>0.025656</td>\n",
       "      <td>3000.0</td>\n",
       "      <td>1427.524158</td>\n",
       "      <td>0.475841</td>\n",
       "      <td>7</td>\n",
       "      <td>1</td>\n",
       "      <td>0</td>\n",
       "      <td>0</td>\n",
       "      <td>0</td>\n",
       "      <td>1</td>\n",
       "    </tr>\n",
       "    <tr>\n",
       "      <th>22</th>\n",
       "      <td>39</td>\n",
       "      <td>0</td>\n",
       "      <td>1.000000</td>\n",
       "      <td>2500.0</td>\n",
       "      <td>602.758897</td>\n",
       "      <td>0.241104</td>\n",
       "      <td>4</td>\n",
       "      <td>0</td>\n",
       "      <td>0</td>\n",
       "      <td>0</td>\n",
       "      <td>0</td>\n",
       "      <td>0</td>\n",
       "    </tr>\n",
       "    <tr>\n",
       "      <th>23</th>\n",
       "      <td>32</td>\n",
       "      <td>0</td>\n",
       "      <td>0.075427</td>\n",
       "      <td>7916.0</td>\n",
       "      <td>676.914488</td>\n",
       "      <td>0.085512</td>\n",
       "      <td>6</td>\n",
       "      <td>0</td>\n",
       "      <td>0</td>\n",
       "      <td>0</td>\n",
       "      <td>0</td>\n",
       "      <td>0</td>\n",
       "    </tr>\n",
       "    <tr>\n",
       "      <th>24</th>\n",
       "      <td>58</td>\n",
       "      <td>0</td>\n",
       "      <td>0.046560</td>\n",
       "      <td>2416.0</td>\n",
       "      <td>583.758378</td>\n",
       "      <td>0.241622</td>\n",
       "      <td>9</td>\n",
       "      <td>1</td>\n",
       "      <td>0</td>\n",
       "      <td>0</td>\n",
       "      <td>0</td>\n",
       "      <td>0</td>\n",
       "    </tr>\n",
       "    <tr>\n",
       "      <th>25</th>\n",
       "      <td>50</td>\n",
       "      <td>1</td>\n",
       "      <td>0.392248</td>\n",
       "      <td>4676.0</td>\n",
       "      <td>7459.404749</td>\n",
       "      <td>1.595253</td>\n",
       "      <td>14</td>\n",
       "      <td>3</td>\n",
       "      <td>0</td>\n",
       "      <td>0</td>\n",
       "      <td>0</td>\n",
       "      <td>1</td>\n",
       "    </tr>\n",
       "    <tr>\n",
       "      <th>26</th>\n",
       "      <td>58</td>\n",
       "      <td>0</td>\n",
       "      <td>0.052436</td>\n",
       "      <td>8333.0</td>\n",
       "      <td>813.902326</td>\n",
       "      <td>0.097672</td>\n",
       "      <td>22</td>\n",
       "      <td>1</td>\n",
       "      <td>0</td>\n",
       "      <td>0</td>\n",
       "      <td>0</td>\n",
       "      <td>0</td>\n",
       "    </tr>\n",
       "    <tr>\n",
       "      <th>27</th>\n",
       "      <td>69</td>\n",
       "      <td>1</td>\n",
       "      <td>0.034421</td>\n",
       "      <td>2500.0</td>\n",
       "      <td>105.957617</td>\n",
       "      <td>0.042383</td>\n",
       "      <td>17</td>\n",
       "      <td>0</td>\n",
       "      <td>0</td>\n",
       "      <td>0</td>\n",
       "      <td>0</td>\n",
       "      <td>0</td>\n",
       "    </tr>\n",
       "    <tr>\n",
       "      <th>28</th>\n",
       "      <td>24</td>\n",
       "      <td>0</td>\n",
       "      <td>0.452516</td>\n",
       "      <td>3400.0</td>\n",
       "      <td>39.988240</td>\n",
       "      <td>0.011761</td>\n",
       "      <td>1</td>\n",
       "      <td>0</td>\n",
       "      <td>0</td>\n",
       "      <td>0</td>\n",
       "      <td>0</td>\n",
       "      <td>0</td>\n",
       "    </tr>\n",
       "    <tr>\n",
       "      <th>29</th>\n",
       "      <td>58</td>\n",
       "      <td>0</td>\n",
       "      <td>0.392995</td>\n",
       "      <td>5500.0</td>\n",
       "      <td>2398.563899</td>\n",
       "      <td>0.436103</td>\n",
       "      <td>15</td>\n",
       "      <td>1</td>\n",
       "      <td>2</td>\n",
       "      <td>0</td>\n",
       "      <td>0</td>\n",
       "      <td>0</td>\n",
       "    </tr>\n",
       "    <tr>\n",
       "      <th>...</th>\n",
       "      <td>...</td>\n",
       "      <td>...</td>\n",
       "      <td>...</td>\n",
       "      <td>...</td>\n",
       "      <td>...</td>\n",
       "      <td>...</td>\n",
       "      <td>...</td>\n",
       "      <td>...</td>\n",
       "      <td>...</td>\n",
       "      <td>...</td>\n",
       "      <td>...</td>\n",
       "      <td>...</td>\n",
       "    </tr>\n",
       "    <tr>\n",
       "      <th>149970</th>\n",
       "      <td>58</td>\n",
       "      <td>2</td>\n",
       "      <td>0.025449</td>\n",
       "      <td>15500.0</td>\n",
       "      <td>3934.746145</td>\n",
       "      <td>0.253855</td>\n",
       "      <td>7</td>\n",
       "      <td>2</td>\n",
       "      <td>0</td>\n",
       "      <td>0</td>\n",
       "      <td>0</td>\n",
       "      <td>0</td>\n",
       "    </tr>\n",
       "    <tr>\n",
       "      <th>149971</th>\n",
       "      <td>83</td>\n",
       "      <td>0</td>\n",
       "      <td>0.058001</td>\n",
       "      <td>5000.0</td>\n",
       "      <td>69.986005</td>\n",
       "      <td>0.013997</td>\n",
       "      <td>6</td>\n",
       "      <td>0</td>\n",
       "      <td>0</td>\n",
       "      <td>0</td>\n",
       "      <td>0</td>\n",
       "      <td>0</td>\n",
       "    </tr>\n",
       "    <tr>\n",
       "      <th>149972</th>\n",
       "      <td>42</td>\n",
       "      <td>1</td>\n",
       "      <td>0.071273</td>\n",
       "      <td>6945.0</td>\n",
       "      <td>59.991361</td>\n",
       "      <td>0.008638</td>\n",
       "      <td>3</td>\n",
       "      <td>0</td>\n",
       "      <td>0</td>\n",
       "      <td>0</td>\n",
       "      <td>0</td>\n",
       "      <td>0</td>\n",
       "    </tr>\n",
       "    <tr>\n",
       "      <th>149973</th>\n",
       "      <td>44</td>\n",
       "      <td>1</td>\n",
       "      <td>1.026395</td>\n",
       "      <td>5500.0</td>\n",
       "      <td>2721.505182</td>\n",
       "      <td>0.494819</td>\n",
       "      <td>7</td>\n",
       "      <td>1</td>\n",
       "      <td>0</td>\n",
       "      <td>0</td>\n",
       "      <td>0</td>\n",
       "      <td>0</td>\n",
       "    </tr>\n",
       "    <tr>\n",
       "      <th>149974</th>\n",
       "      <td>61</td>\n",
       "      <td>0</td>\n",
       "      <td>0.962721</td>\n",
       "      <td>5000.0</td>\n",
       "      <td>3017.396520</td>\n",
       "      <td>0.603479</td>\n",
       "      <td>11</td>\n",
       "      <td>1</td>\n",
       "      <td>2</td>\n",
       "      <td>0</td>\n",
       "      <td>0</td>\n",
       "      <td>0</td>\n",
       "    </tr>\n",
       "    <tr>\n",
       "      <th>149975</th>\n",
       "      <td>58</td>\n",
       "      <td>0</td>\n",
       "      <td>0.022088</td>\n",
       "      <td>0.0</td>\n",
       "      <td>2716.000000</td>\n",
       "      <td>2716.000000</td>\n",
       "      <td>8</td>\n",
       "      <td>2</td>\n",
       "      <td>0</td>\n",
       "      <td>0</td>\n",
       "      <td>0</td>\n",
       "      <td>0</td>\n",
       "    </tr>\n",
       "    <tr>\n",
       "      <th>149976</th>\n",
       "      <td>76</td>\n",
       "      <td>0</td>\n",
       "      <td>0.000627</td>\n",
       "      <td>0.0</td>\n",
       "      <td>60.000000</td>\n",
       "      <td>60.000000</td>\n",
       "      <td>5</td>\n",
       "      <td>0</td>\n",
       "      <td>0</td>\n",
       "      <td>0</td>\n",
       "      <td>0</td>\n",
       "      <td>0</td>\n",
       "    </tr>\n",
       "    <tr>\n",
       "      <th>149977</th>\n",
       "      <td>29</td>\n",
       "      <td>0</td>\n",
       "      <td>0.236450</td>\n",
       "      <td>0.0</td>\n",
       "      <td>349.000000</td>\n",
       "      <td>349.000000</td>\n",
       "      <td>3</td>\n",
       "      <td>0</td>\n",
       "      <td>0</td>\n",
       "      <td>0</td>\n",
       "      <td>0</td>\n",
       "      <td>0</td>\n",
       "    </tr>\n",
       "    <tr>\n",
       "      <th>149978</th>\n",
       "      <td>52</td>\n",
       "      <td>0</td>\n",
       "      <td>0.917635</td>\n",
       "      <td>2500.0</td>\n",
       "      <td>648.740505</td>\n",
       "      <td>0.259496</td>\n",
       "      <td>4</td>\n",
       "      <td>0</td>\n",
       "      <td>2</td>\n",
       "      <td>0</td>\n",
       "      <td>0</td>\n",
       "      <td>0</td>\n",
       "    </tr>\n",
       "    <tr>\n",
       "      <th>149979</th>\n",
       "      <td>55</td>\n",
       "      <td>0</td>\n",
       "      <td>0.224711</td>\n",
       "      <td>8700.0</td>\n",
       "      <td>497.942769</td>\n",
       "      <td>0.057235</td>\n",
       "      <td>7</td>\n",
       "      <td>0</td>\n",
       "      <td>0</td>\n",
       "      <td>0</td>\n",
       "      <td>0</td>\n",
       "      <td>1</td>\n",
       "    </tr>\n",
       "    <tr>\n",
       "      <th>149980</th>\n",
       "      <td>64</td>\n",
       "      <td>0</td>\n",
       "      <td>0.067644</td>\n",
       "      <td>5525.0</td>\n",
       "      <td>1408.745024</td>\n",
       "      <td>0.254976</td>\n",
       "      <td>12</td>\n",
       "      <td>1</td>\n",
       "      <td>0</td>\n",
       "      <td>0</td>\n",
       "      <td>0</td>\n",
       "      <td>0</td>\n",
       "    </tr>\n",
       "    <tr>\n",
       "      <th>149981</th>\n",
       "      <td>43</td>\n",
       "      <td>4</td>\n",
       "      <td>0.810012</td>\n",
       "      <td>6849.0</td>\n",
       "      <td>833.878249</td>\n",
       "      <td>0.121752</td>\n",
       "      <td>4</td>\n",
       "      <td>0</td>\n",
       "      <td>0</td>\n",
       "      <td>0</td>\n",
       "      <td>0</td>\n",
       "      <td>0</td>\n",
       "    </tr>\n",
       "    <tr>\n",
       "      <th>149982</th>\n",
       "      <td>37</td>\n",
       "      <td>3</td>\n",
       "      <td>0.021046</td>\n",
       "      <td>2760.0</td>\n",
       "      <td>690.749729</td>\n",
       "      <td>0.250272</td>\n",
       "      <td>8</td>\n",
       "      <td>0</td>\n",
       "      <td>0</td>\n",
       "      <td>0</td>\n",
       "      <td>0</td>\n",
       "      <td>0</td>\n",
       "    </tr>\n",
       "    <tr>\n",
       "      <th>149983</th>\n",
       "      <td>82</td>\n",
       "      <td>0</td>\n",
       "      <td>0.002485</td>\n",
       "      <td>5000.0</td>\n",
       "      <td>3.999200</td>\n",
       "      <td>0.000800</td>\n",
       "      <td>5</td>\n",
       "      <td>0</td>\n",
       "      <td>0</td>\n",
       "      <td>0</td>\n",
       "      <td>0</td>\n",
       "      <td>0</td>\n",
       "    </tr>\n",
       "    <tr>\n",
       "      <th>149984</th>\n",
       "      <td>84</td>\n",
       "      <td>0</td>\n",
       "      <td>0.037548</td>\n",
       "      <td>0.0</td>\n",
       "      <td>25.000000</td>\n",
       "      <td>25.000000</td>\n",
       "      <td>5</td>\n",
       "      <td>0</td>\n",
       "      <td>0</td>\n",
       "      <td>0</td>\n",
       "      <td>0</td>\n",
       "      <td>0</td>\n",
       "    </tr>\n",
       "    <tr>\n",
       "      <th>149985</th>\n",
       "      <td>26</td>\n",
       "      <td>0</td>\n",
       "      <td>0.954409</td>\n",
       "      <td>1950.0</td>\n",
       "      <td>633.675038</td>\n",
       "      <td>0.324962</td>\n",
       "      <td>4</td>\n",
       "      <td>0</td>\n",
       "      <td>0</td>\n",
       "      <td>0</td>\n",
       "      <td>0</td>\n",
       "      <td>0</td>\n",
       "    </tr>\n",
       "    <tr>\n",
       "      <th>149986</th>\n",
       "      <td>49</td>\n",
       "      <td>1</td>\n",
       "      <td>0.168102</td>\n",
       "      <td>5000.0</td>\n",
       "      <td>401.919615</td>\n",
       "      <td>0.080384</td>\n",
       "      <td>16</td>\n",
       "      <td>0</td>\n",
       "      <td>0</td>\n",
       "      <td>0</td>\n",
       "      <td>0</td>\n",
       "      <td>0</td>\n",
       "    </tr>\n",
       "    <tr>\n",
       "      <th>149987</th>\n",
       "      <td>28</td>\n",
       "      <td>0</td>\n",
       "      <td>1.000000</td>\n",
       "      <td>3249.0</td>\n",
       "      <td>180.944309</td>\n",
       "      <td>0.055692</td>\n",
       "      <td>3</td>\n",
       "      <td>0</td>\n",
       "      <td>0</td>\n",
       "      <td>0</td>\n",
       "      <td>1</td>\n",
       "      <td>0</td>\n",
       "    </tr>\n",
       "    <tr>\n",
       "      <th>149988</th>\n",
       "      <td>31</td>\n",
       "      <td>0</td>\n",
       "      <td>0.902051</td>\n",
       "      <td>7515.0</td>\n",
       "      <td>2614.652076</td>\n",
       "      <td>0.347924</td>\n",
       "      <td>10</td>\n",
       "      <td>1</td>\n",
       "      <td>1</td>\n",
       "      <td>0</td>\n",
       "      <td>0</td>\n",
       "      <td>0</td>\n",
       "    </tr>\n",
       "    <tr>\n",
       "      <th>149989</th>\n",
       "      <td>62</td>\n",
       "      <td>3</td>\n",
       "      <td>0.013356</td>\n",
       "      <td>9233.0</td>\n",
       "      <td>12.998596</td>\n",
       "      <td>0.001408</td>\n",
       "      <td>4</td>\n",
       "      <td>0</td>\n",
       "      <td>0</td>\n",
       "      <td>0</td>\n",
       "      <td>0</td>\n",
       "      <td>0</td>\n",
       "    </tr>\n",
       "    <tr>\n",
       "      <th>149990</th>\n",
       "      <td>46</td>\n",
       "      <td>2</td>\n",
       "      <td>0.055518</td>\n",
       "      <td>4335.0</td>\n",
       "      <td>2643.390222</td>\n",
       "      <td>0.609779</td>\n",
       "      <td>7</td>\n",
       "      <td>1</td>\n",
       "      <td>0</td>\n",
       "      <td>0</td>\n",
       "      <td>0</td>\n",
       "      <td>0</td>\n",
       "    </tr>\n",
       "    <tr>\n",
       "      <th>149991</th>\n",
       "      <td>59</td>\n",
       "      <td>0</td>\n",
       "      <td>0.104112</td>\n",
       "      <td>10316.0</td>\n",
       "      <td>4927.522342</td>\n",
       "      <td>0.477658</td>\n",
       "      <td>10</td>\n",
       "      <td>2</td>\n",
       "      <td>0</td>\n",
       "      <td>0</td>\n",
       "      <td>0</td>\n",
       "      <td>0</td>\n",
       "    </tr>\n",
       "    <tr>\n",
       "      <th>149992</th>\n",
       "      <td>50</td>\n",
       "      <td>3</td>\n",
       "      <td>0.871976</td>\n",
       "      <td>0.0</td>\n",
       "      <td>4132.000000</td>\n",
       "      <td>4132.000000</td>\n",
       "      <td>11</td>\n",
       "      <td>1</td>\n",
       "      <td>0</td>\n",
       "      <td>0</td>\n",
       "      <td>0</td>\n",
       "      <td>0</td>\n",
       "    </tr>\n",
       "    <tr>\n",
       "      <th>149993</th>\n",
       "      <td>22</td>\n",
       "      <td>0</td>\n",
       "      <td>1.000000</td>\n",
       "      <td>820.0</td>\n",
       "      <td>0.000000</td>\n",
       "      <td>0.000000</td>\n",
       "      <td>1</td>\n",
       "      <td>0</td>\n",
       "      <td>0</td>\n",
       "      <td>0</td>\n",
       "      <td>0</td>\n",
       "      <td>0</td>\n",
       "    </tr>\n",
       "    <tr>\n",
       "      <th>149994</th>\n",
       "      <td>50</td>\n",
       "      <td>0</td>\n",
       "      <td>0.385742</td>\n",
       "      <td>3400.0</td>\n",
       "      <td>1374.595707</td>\n",
       "      <td>0.404293</td>\n",
       "      <td>7</td>\n",
       "      <td>0</td>\n",
       "      <td>0</td>\n",
       "      <td>0</td>\n",
       "      <td>0</td>\n",
       "      <td>0</td>\n",
       "    </tr>\n",
       "    <tr>\n",
       "      <th>149995</th>\n",
       "      <td>74</td>\n",
       "      <td>0</td>\n",
       "      <td>0.040674</td>\n",
       "      <td>2100.0</td>\n",
       "      <td>472.774869</td>\n",
       "      <td>0.225131</td>\n",
       "      <td>4</td>\n",
       "      <td>1</td>\n",
       "      <td>0</td>\n",
       "      <td>0</td>\n",
       "      <td>0</td>\n",
       "      <td>0</td>\n",
       "    </tr>\n",
       "    <tr>\n",
       "      <th>149996</th>\n",
       "      <td>44</td>\n",
       "      <td>2</td>\n",
       "      <td>0.299745</td>\n",
       "      <td>5584.0</td>\n",
       "      <td>4001.283436</td>\n",
       "      <td>0.716562</td>\n",
       "      <td>4</td>\n",
       "      <td>1</td>\n",
       "      <td>0</td>\n",
       "      <td>0</td>\n",
       "      <td>0</td>\n",
       "      <td>0</td>\n",
       "    </tr>\n",
       "    <tr>\n",
       "      <th>149997</th>\n",
       "      <td>58</td>\n",
       "      <td>0</td>\n",
       "      <td>0.246044</td>\n",
       "      <td>0.0</td>\n",
       "      <td>3870.000000</td>\n",
       "      <td>3870.000000</td>\n",
       "      <td>18</td>\n",
       "      <td>1</td>\n",
       "      <td>0</td>\n",
       "      <td>0</td>\n",
       "      <td>0</td>\n",
       "      <td>0</td>\n",
       "    </tr>\n",
       "    <tr>\n",
       "      <th>149998</th>\n",
       "      <td>30</td>\n",
       "      <td>0</td>\n",
       "      <td>0.000000</td>\n",
       "      <td>5716.0</td>\n",
       "      <td>0.000000</td>\n",
       "      <td>0.000000</td>\n",
       "      <td>4</td>\n",
       "      <td>0</td>\n",
       "      <td>0</td>\n",
       "      <td>0</td>\n",
       "      <td>0</td>\n",
       "      <td>0</td>\n",
       "    </tr>\n",
       "    <tr>\n",
       "      <th>149999</th>\n",
       "      <td>64</td>\n",
       "      <td>0</td>\n",
       "      <td>0.850283</td>\n",
       "      <td>8158.0</td>\n",
       "      <td>2038.750092</td>\n",
       "      <td>0.249908</td>\n",
       "      <td>8</td>\n",
       "      <td>2</td>\n",
       "      <td>0</td>\n",
       "      <td>0</td>\n",
       "      <td>0</td>\n",
       "      <td>0</td>\n",
       "    </tr>\n",
       "  </tbody>\n",
       "</table>\n",
       "<p>149999 rows × 12 columns</p>\n",
       "</div>"
      ],
      "text/plain": [
       "        age  NumberOfDependents  RevolvingUtilizationOfUnsecuredLines  \\\n",
       "0        45                   2                              0.766127   \n",
       "1        40                   1                              0.957151   \n",
       "2        38                   0                              0.658180   \n",
       "3        30                   0                              0.233810   \n",
       "4        49                   0                              0.907239   \n",
       "5        74                   1                              0.213179   \n",
       "6        57                   0                              0.305682   \n",
       "7        39                   0                              0.754464   \n",
       "8        27                   0                              0.116951   \n",
       "9        57                   2                              0.189169   \n",
       "10       30                   0                              0.644226   \n",
       "11       51                   2                              0.018798   \n",
       "12       46                   2                              0.010352   \n",
       "13       40                   2                              0.964673   \n",
       "14       76                   0                              0.019657   \n",
       "15       64                   2                              0.548458   \n",
       "16       78                   0                              0.061086   \n",
       "17       53                   0                              0.166284   \n",
       "18       43                   2                              0.221813   \n",
       "19       25                   0                              0.602794   \n",
       "20       43                   0                              0.200923   \n",
       "21       38                   2                              0.025656   \n",
       "22       39                   0                              1.000000   \n",
       "23       32                   0                              0.075427   \n",
       "24       58                   0                              0.046560   \n",
       "25       50                   1                              0.392248   \n",
       "26       58                   0                              0.052436   \n",
       "27       69                   1                              0.034421   \n",
       "28       24                   0                              0.452516   \n",
       "29       58                   0                              0.392995   \n",
       "...     ...                 ...                                   ...   \n",
       "149970   58                   2                              0.025449   \n",
       "149971   83                   0                              0.058001   \n",
       "149972   42                   1                              0.071273   \n",
       "149973   44                   1                              1.026395   \n",
       "149974   61                   0                              0.962721   \n",
       "149975   58                   0                              0.022088   \n",
       "149976   76                   0                              0.000627   \n",
       "149977   29                   0                              0.236450   \n",
       "149978   52                   0                              0.917635   \n",
       "149979   55                   0                              0.224711   \n",
       "149980   64                   0                              0.067644   \n",
       "149981   43                   4                              0.810012   \n",
       "149982   37                   3                              0.021046   \n",
       "149983   82                   0                              0.002485   \n",
       "149984   84                   0                              0.037548   \n",
       "149985   26                   0                              0.954409   \n",
       "149986   49                   1                              0.168102   \n",
       "149987   28                   0                              1.000000   \n",
       "149988   31                   0                              0.902051   \n",
       "149989   62                   3                              0.013356   \n",
       "149990   46                   2                              0.055518   \n",
       "149991   59                   0                              0.104112   \n",
       "149992   50                   3                              0.871976   \n",
       "149993   22                   0                              1.000000   \n",
       "149994   50                   0                              0.385742   \n",
       "149995   74                   0                              0.040674   \n",
       "149996   44                   2                              0.299745   \n",
       "149997   58                   0                              0.246044   \n",
       "149998   30                   0                              0.000000   \n",
       "149999   64                   0                              0.850283   \n",
       "\n",
       "        MonthlyIncome  MonthlyOutcome    DebtRatio  \\\n",
       "0              9120.0     7323.197016     0.802982   \n",
       "1              2600.0      316.878123     0.121876   \n",
       "2              3042.0      258.914887     0.085113   \n",
       "3              3300.0      118.963951     0.036050   \n",
       "4             63588.0     1584.975094     0.024926   \n",
       "5              3500.0     1314.624392     0.375607   \n",
       "6                 0.0     5710.000000  5710.000000   \n",
       "7              3500.0      734.790059     0.209940   \n",
       "8                 0.0       46.000000    46.000000   \n",
       "9             23684.0    14359.393699     0.606291   \n",
       "10             2500.0      773.690525     0.309476   \n",
       "11             6501.0     3455.468469     0.531529   \n",
       "12            12454.0     3715.701650     0.298354   \n",
       "13            13700.0     5246.617034     0.382965   \n",
       "14                0.0      477.000000   477.000000   \n",
       "15            11362.0     2384.790109     0.209892   \n",
       "16                0.0     2058.000000  2058.000000   \n",
       "17             8800.0     1656.811728     0.188274   \n",
       "18             3280.0     1731.472112     0.527888   \n",
       "19              333.0       21.934132     0.065868   \n",
       "20            12300.0     5289.569957     0.430046   \n",
       "21             3000.0     1427.524158     0.475841   \n",
       "22             2500.0      602.758897     0.241104   \n",
       "23             7916.0      676.914488     0.085512   \n",
       "24             2416.0      583.758378     0.241622   \n",
       "25             4676.0     7459.404749     1.595253   \n",
       "26             8333.0      813.902326     0.097672   \n",
       "27             2500.0      105.957617     0.042383   \n",
       "28             3400.0       39.988240     0.011761   \n",
       "29             5500.0     2398.563899     0.436103   \n",
       "...               ...             ...          ...   \n",
       "149970        15500.0     3934.746145     0.253855   \n",
       "149971         5000.0       69.986005     0.013997   \n",
       "149972         6945.0       59.991361     0.008638   \n",
       "149973         5500.0     2721.505182     0.494819   \n",
       "149974         5000.0     3017.396520     0.603479   \n",
       "149975            0.0     2716.000000  2716.000000   \n",
       "149976            0.0       60.000000    60.000000   \n",
       "149977            0.0      349.000000   349.000000   \n",
       "149978         2500.0      648.740505     0.259496   \n",
       "149979         8700.0      497.942769     0.057235   \n",
       "149980         5525.0     1408.745024     0.254976   \n",
       "149981         6849.0      833.878249     0.121752   \n",
       "149982         2760.0      690.749729     0.250272   \n",
       "149983         5000.0        3.999200     0.000800   \n",
       "149984            0.0       25.000000    25.000000   \n",
       "149985         1950.0      633.675038     0.324962   \n",
       "149986         5000.0      401.919615     0.080384   \n",
       "149987         3249.0      180.944309     0.055692   \n",
       "149988         7515.0     2614.652076     0.347924   \n",
       "149989         9233.0       12.998596     0.001408   \n",
       "149990         4335.0     2643.390222     0.609779   \n",
       "149991        10316.0     4927.522342     0.477658   \n",
       "149992            0.0     4132.000000  4132.000000   \n",
       "149993          820.0        0.000000     0.000000   \n",
       "149994         3400.0     1374.595707     0.404293   \n",
       "149995         2100.0      472.774869     0.225131   \n",
       "149996         5584.0     4001.283436     0.716562   \n",
       "149997            0.0     3870.000000  3870.000000   \n",
       "149998         5716.0        0.000000     0.000000   \n",
       "149999         8158.0     2038.750092     0.249908   \n",
       "\n",
       "        NumberOfOpenCreditLinesAndLoans  NumberRealEstateLoansOrLines  \\\n",
       "0                                    13                             6   \n",
       "1                                     4                             0   \n",
       "2                                     2                             0   \n",
       "3                                     5                             0   \n",
       "4                                     7                             1   \n",
       "5                                     3                             1   \n",
       "6                                     8                             3   \n",
       "7                                     8                             0   \n",
       "8                                     2                             0   \n",
       "9                                     9                             4   \n",
       "10                                    5                             0   \n",
       "11                                    7                             2   \n",
       "12                                   13                             2   \n",
       "13                                    9                             1   \n",
       "14                                    6                             1   \n",
       "15                                    7                             1   \n",
       "16                                   10                             2   \n",
       "17                                    7                             0   \n",
       "18                                    7                             1   \n",
       "19                                    2                             0   \n",
       "20                                   10                             2   \n",
       "21                                    7                             1   \n",
       "22                                    4                             0   \n",
       "23                                    6                             0   \n",
       "24                                    9                             1   \n",
       "25                                   14                             3   \n",
       "26                                   22                             1   \n",
       "27                                   17                             0   \n",
       "28                                    1                             0   \n",
       "29                                   15                             1   \n",
       "...                                 ...                           ...   \n",
       "149970                                7                             2   \n",
       "149971                                6                             0   \n",
       "149972                                3                             0   \n",
       "149973                                7                             1   \n",
       "149974                               11                             1   \n",
       "149975                                8                             2   \n",
       "149976                                5                             0   \n",
       "149977                                3                             0   \n",
       "149978                                4                             0   \n",
       "149979                                7                             0   \n",
       "149980                               12                             1   \n",
       "149981                                4                             0   \n",
       "149982                                8                             0   \n",
       "149983                                5                             0   \n",
       "149984                                5                             0   \n",
       "149985                                4                             0   \n",
       "149986                               16                             0   \n",
       "149987                                3                             0   \n",
       "149988                               10                             1   \n",
       "149989                                4                             0   \n",
       "149990                                7                             1   \n",
       "149991                               10                             2   \n",
       "149992                               11                             1   \n",
       "149993                                1                             0   \n",
       "149994                                7                             0   \n",
       "149995                                4                             1   \n",
       "149996                                4                             1   \n",
       "149997                               18                             1   \n",
       "149998                                4                             0   \n",
       "149999                                8                             2   \n",
       "\n",
       "        NumberOfTime30-59DaysPastDueNotWorse  \\\n",
       "0                                          2   \n",
       "1                                          0   \n",
       "2                                          1   \n",
       "3                                          0   \n",
       "4                                          1   \n",
       "5                                          0   \n",
       "6                                          0   \n",
       "7                                          0   \n",
       "8                                          0   \n",
       "9                                          0   \n",
       "10                                         0   \n",
       "11                                         0   \n",
       "12                                         0   \n",
       "13                                         3   \n",
       "14                                         0   \n",
       "15                                         0   \n",
       "16                                         0   \n",
       "17                                         0   \n",
       "18                                         0   \n",
       "19                                         0   \n",
       "20                                         0   \n",
       "21                                         0   \n",
       "22                                         0   \n",
       "23                                         0   \n",
       "24                                         0   \n",
       "25                                         0   \n",
       "26                                         0   \n",
       "27                                         0   \n",
       "28                                         0   \n",
       "29                                         2   \n",
       "...                                      ...   \n",
       "149970                                     0   \n",
       "149971                                     0   \n",
       "149972                                     0   \n",
       "149973                                     0   \n",
       "149974                                     2   \n",
       "149975                                     0   \n",
       "149976                                     0   \n",
       "149977                                     0   \n",
       "149978                                     2   \n",
       "149979                                     0   \n",
       "149980                                     0   \n",
       "149981                                     0   \n",
       "149982                                     0   \n",
       "149983                                     0   \n",
       "149984                                     0   \n",
       "149985                                     0   \n",
       "149986                                     0   \n",
       "149987                                     0   \n",
       "149988                                     1   \n",
       "149989                                     0   \n",
       "149990                                     0   \n",
       "149991                                     0   \n",
       "149992                                     0   \n",
       "149993                                     0   \n",
       "149994                                     0   \n",
       "149995                                     0   \n",
       "149996                                     0   \n",
       "149997                                     0   \n",
       "149998                                     0   \n",
       "149999                                     0   \n",
       "\n",
       "        NumberOfTime60-89DaysPastDueNotWorse  NumberOfTimes90DaysLate  \\\n",
       "0                                          0                        0   \n",
       "1                                          0                        0   \n",
       "2                                          0                        1   \n",
       "3                                          0                        0   \n",
       "4                                          0                        0   \n",
       "5                                          0                        0   \n",
       "6                                          0                        0   \n",
       "7                                          0                        0   \n",
       "8                                          0                        0   \n",
       "9                                          0                        0   \n",
       "10                                         0                        0   \n",
       "11                                         0                        0   \n",
       "12                                         0                        0   \n",
       "13                                         1                        3   \n",
       "14                                         0                        0   \n",
       "15                                         0                        0   \n",
       "16                                         0                        0   \n",
       "17                                         0                        0   \n",
       "18                                         0                        0   \n",
       "19                                         0                        0   \n",
       "20                                         0                        0   \n",
       "21                                         0                        0   \n",
       "22                                         0                        0   \n",
       "23                                         0                        0   \n",
       "24                                         0                        0   \n",
       "25                                         0                        0   \n",
       "26                                         0                        0   \n",
       "27                                         0                        0   \n",
       "28                                         0                        0   \n",
       "29                                         0                        0   \n",
       "...                                      ...                      ...   \n",
       "149970                                     0                        0   \n",
       "149971                                     0                        0   \n",
       "149972                                     0                        0   \n",
       "149973                                     0                        0   \n",
       "149974                                     0                        0   \n",
       "149975                                     0                        0   \n",
       "149976                                     0                        0   \n",
       "149977                                     0                        0   \n",
       "149978                                     0                        0   \n",
       "149979                                     0                        0   \n",
       "149980                                     0                        0   \n",
       "149981                                     0                        0   \n",
       "149982                                     0                        0   \n",
       "149983                                     0                        0   \n",
       "149984                                     0                        0   \n",
       "149985                                     0                        0   \n",
       "149986                                     0                        0   \n",
       "149987                                     0                        1   \n",
       "149988                                     0                        0   \n",
       "149989                                     0                        0   \n",
       "149990                                     0                        0   \n",
       "149991                                     0                        0   \n",
       "149992                                     0                        0   \n",
       "149993                                     0                        0   \n",
       "149994                                     0                        0   \n",
       "149995                                     0                        0   \n",
       "149996                                     0                        0   \n",
       "149997                                     0                        0   \n",
       "149998                                     0                        0   \n",
       "149999                                     0                        0   \n",
       "\n",
       "       SeriousDlqin2yrs  \n",
       "0                     1  \n",
       "1                     0  \n",
       "2                     0  \n",
       "3                     0  \n",
       "4                     0  \n",
       "5                     0  \n",
       "6                     0  \n",
       "7                     0  \n",
       "8                     0  \n",
       "9                     0  \n",
       "10                    0  \n",
       "11                    0  \n",
       "12                    0  \n",
       "13                    1  \n",
       "14                    0  \n",
       "15                    0  \n",
       "16                    0  \n",
       "17                    0  \n",
       "18                    0  \n",
       "19                    0  \n",
       "20                    0  \n",
       "21                    1  \n",
       "22                    0  \n",
       "23                    0  \n",
       "24                    0  \n",
       "25                    1  \n",
       "26                    0  \n",
       "27                    0  \n",
       "28                    0  \n",
       "29                    0  \n",
       "...                 ...  \n",
       "149970                0  \n",
       "149971                0  \n",
       "149972                0  \n",
       "149973                0  \n",
       "149974                0  \n",
       "149975                0  \n",
       "149976                0  \n",
       "149977                0  \n",
       "149978                0  \n",
       "149979                1  \n",
       "149980                0  \n",
       "149981                0  \n",
       "149982                0  \n",
       "149983                0  \n",
       "149984                0  \n",
       "149985                0  \n",
       "149986                0  \n",
       "149987                0  \n",
       "149988                0  \n",
       "149989                0  \n",
       "149990                0  \n",
       "149991                0  \n",
       "149992                0  \n",
       "149993                0  \n",
       "149994                0  \n",
       "149995                0  \n",
       "149996                0  \n",
       "149997                0  \n",
       "149998                0  \n",
       "149999                0  \n",
       "\n",
       "[149999 rows x 12 columns]"
      ]
     },
     "execution_count": 27,
     "metadata": {},
     "output_type": "execute_result"
    }
   ],
   "source": [
    "mask = data.MonthlyOutcome == 0.000000\n",
    "column_name = 'MonthlyOutcome'\n",
    "data.loc[mask, column_name] = data.DebtRatio\n",
    "data"
   ]
  },
  {
   "cell_type": "code",
   "execution_count": 28,
   "metadata": {
    "collapsed": true
   },
   "outputs": [],
   "source": [
    "data['LinesLoans']=data['NumberRealEstateLoansOrLines']+data['NumberOfOpenCreditLinesAndLoans'] # Zbir linija kredita i pozajmica"
   ]
  },
  {
   "cell_type": "code",
   "execution_count": 29,
   "metadata": {
    "collapsed": true
   },
   "outputs": [],
   "source": [
    "data['WithDependents'] = data['NumberOfDependents']\n",
    "data.loc[(data['WithDependents'] >= 1), 'WithDependents'] = 1"
   ]
  },
  {
   "cell_type": "code",
   "execution_count": 30,
   "metadata": {
    "collapsed": true
   },
   "outputs": [],
   "source": [
    "data=data[['age', 'NumberOfDependents','WithDependents','RevolvingUtilizationOfUnsecuredLines','MonthlyIncome','MonthlyOutcome','DebtRatio','NumberOfOpenCreditLinesAndLoans',\n",
    "            'NumberRealEstateLoansOrLines','LinesLoans','NumberOfTime30-59DaysPastDueNotWorse','NumberOfTime60-89DaysPastDueNotWorse',\n",
    "           'NumberOfTimes90DaysLate','SeriousDlqin2yrs']] # Sortiranje kolona"
   ]
  },
  {
   "cell_type": "code",
   "execution_count": 31,
   "metadata": {},
   "outputs": [
    {
     "name": "stderr",
     "output_type": "stream",
     "text": [
      "C:\\Users\\Marija.Miljkovic\\Anaconda3\\lib\\site-packages\\ipykernel_launcher.py:1: SettingWithCopyWarning: \n",
      "A value is trying to be set on a copy of a slice from a DataFrame.\n",
      "Try using .loc[row_indexer,col_indexer] = value instead\n",
      "\n",
      "See the caveats in the documentation: http://pandas.pydata.org/pandas-docs/stable/indexing.html#indexing-view-versus-copy\n",
      "  \"\"\"Entry point for launching an IPython kernel.\n",
      "C:\\Users\\Marija.Miljkovic\\Anaconda3\\lib\\site-packages\\pandas\\core\\indexing.py:517: SettingWithCopyWarning: \n",
      "A value is trying to be set on a copy of a slice from a DataFrame.\n",
      "Try using .loc[row_indexer,col_indexer] = value instead\n",
      "\n",
      "See the caveats in the documentation: http://pandas.pydata.org/pandas-docs/stable/indexing.html#indexing-view-versus-copy\n",
      "  self.obj[item] = s\n"
     ]
    }
   ],
   "source": [
    "data['age_category'] = data['age']\n",
    "data.loc[(data['age'] >= 18) & (data['age'] < 60), 'age_category'] = 0\n",
    "data.loc[(data['age'] >= 60), 'age_category'] = 1"
   ]
  },
  {
   "cell_type": "code",
   "execution_count": 32,
   "metadata": {},
   "outputs": [
    {
     "name": "stderr",
     "output_type": "stream",
     "text": [
      "C:\\Users\\Marija.Miljkovic\\Anaconda3\\lib\\site-packages\\ipykernel_launcher.py:1: SettingWithCopyWarning: \n",
      "A value is trying to be set on a copy of a slice from a DataFrame.\n",
      "Try using .loc[row_indexer,col_indexer] = value instead\n",
      "\n",
      "See the caveats in the documentation: http://pandas.pydata.org/pandas-docs/stable/indexing.html#indexing-view-versus-copy\n",
      "  \"\"\"Entry point for launching an IPython kernel.\n",
      "C:\\Users\\Marija.Miljkovic\\Anaconda3\\lib\\site-packages\\ipykernel_launcher.py:2: SettingWithCopyWarning: \n",
      "A value is trying to be set on a copy of a slice from a DataFrame.\n",
      "Try using .loc[row_indexer,col_indexer] = value instead\n",
      "\n",
      "See the caveats in the documentation: http://pandas.pydata.org/pandas-docs/stable/indexing.html#indexing-view-versus-copy\n",
      "  \n"
     ]
    }
   ],
   "source": [
    "data['age_category'] = data['age_category'].replace(0, \"working\")\n",
    "data['age_category'] = data['age_category'].replace(1, \"senior\")\n",
    "# menjamo brojeve u kategoricke varijable - dummy variable"
   ]
  },
  {
   "cell_type": "code",
   "execution_count": 33,
   "metadata": {
    "collapsed": true
   },
   "outputs": [],
   "source": [
    "data=data[['age','age_category', 'NumberOfDependents','WithDependents','RevolvingUtilizationOfUnsecuredLines','MonthlyIncome','MonthlyOutcome','DebtRatio','NumberOfOpenCreditLinesAndLoans',\n",
    "            'NumberRealEstateLoansOrLines','LinesLoans','NumberOfTime30-59DaysPastDueNotWorse','NumberOfTime60-89DaysPastDueNotWorse',\n",
    "           'NumberOfTimes90DaysLate','SeriousDlqin2yrs']] # Sortiranje kolona"
   ]
  },
  {
   "cell_type": "code",
   "execution_count": 34,
   "metadata": {},
   "outputs": [
    {
     "name": "stdout",
     "output_type": "stream",
     "text": [
      "<class 'pandas.core.frame.DataFrame'>\n",
      "Int64Index: 149999 entries, 0 to 149999\n",
      "Data columns (total 15 columns):\n",
      "age                                     149999 non-null int64\n",
      "age_category                            149999 non-null object\n",
      "NumberOfDependents                      149999 non-null int64\n",
      "WithDependents                          149999 non-null int64\n",
      "RevolvingUtilizationOfUnsecuredLines    149999 non-null float64\n",
      "MonthlyIncome                           149999 non-null float64\n",
      "MonthlyOutcome                          149999 non-null float64\n",
      "DebtRatio                               149999 non-null float64\n",
      "NumberOfOpenCreditLinesAndLoans         149999 non-null int64\n",
      "NumberRealEstateLoansOrLines            149999 non-null int64\n",
      "LinesLoans                              149999 non-null int64\n",
      "NumberOfTime30-59DaysPastDueNotWorse    149999 non-null int64\n",
      "NumberOfTime60-89DaysPastDueNotWorse    149999 non-null int64\n",
      "NumberOfTimes90DaysLate                 149999 non-null int64\n",
      "SeriousDlqin2yrs                        149999 non-null category\n",
      "dtypes: category(1), float64(4), int64(9), object(1)\n",
      "memory usage: 22.3+ MB\n"
     ]
    }
   ],
   "source": [
    "data.info()"
   ]
  },
  {
   "cell_type": "code",
   "execution_count": 35,
   "metadata": {
    "collapsed": true
   },
   "outputs": [],
   "source": [
    "data['age_category'] = data['age_category'].astype('category',copy=False) #prebacivanje age_category varijable u kategoricku"
   ]
  },
  {
   "cell_type": "code",
   "execution_count": 36,
   "metadata": {
    "collapsed": true
   },
   "outputs": [],
   "source": [
    "data['NumOfPastDue'] = data['NumberOfTimes90DaysLate']+data['NumberOfTime60-89DaysPastDueNotWorse'] +data['NumberOfTime30-59DaysPastDueNotWorse']"
   ]
  },
  {
   "cell_type": "code",
   "execution_count": 37,
   "metadata": {
    "collapsed": true
   },
   "outputs": [],
   "source": [
    "data['MonthlyBalance'] = data['MonthlyIncome']-data['MonthlyOutcome']"
   ]
  },
  {
   "cell_type": "code",
   "execution_count": 38,
   "metadata": {
    "collapsed": true
   },
   "outputs": [],
   "source": [
    "data=data[['age','age_category', 'NumberOfDependents','WithDependents','RevolvingUtilizationOfUnsecuredLines','MonthlyIncome','MonthlyOutcome','DebtRatio','MonthlyBalance','NumberOfOpenCreditLinesAndLoans',\n",
    "            'NumberRealEstateLoansOrLines','LinesLoans','NumberOfTime30-59DaysPastDueNotWorse','NumberOfTime60-89DaysPastDueNotWorse',\n",
    "           'NumberOfTimes90DaysLate','NumOfPastDue','SeriousDlqin2yrs']] # Sortiranje kolona"
   ]
  },
  {
   "cell_type": "code",
   "execution_count": 39,
   "metadata": {},
   "outputs": [
    {
     "data": {
      "text/html": [
       "<div>\n",
       "<style>\n",
       "    .dataframe thead tr:only-child th {\n",
       "        text-align: right;\n",
       "    }\n",
       "\n",
       "    .dataframe thead th {\n",
       "        text-align: left;\n",
       "    }\n",
       "\n",
       "    .dataframe tbody tr th {\n",
       "        vertical-align: top;\n",
       "    }\n",
       "</style>\n",
       "<table border=\"1\" class=\"dataframe\">\n",
       "  <thead>\n",
       "    <tr style=\"text-align: right;\">\n",
       "      <th></th>\n",
       "      <th>age</th>\n",
       "      <th>age_category</th>\n",
       "      <th>NumberOfDependents</th>\n",
       "      <th>WithDependents</th>\n",
       "      <th>RevolvingUtilizationOfUnsecuredLines</th>\n",
       "      <th>MonthlyIncome</th>\n",
       "      <th>MonthlyOutcome</th>\n",
       "      <th>DebtRatio</th>\n",
       "      <th>MonthlyBalance</th>\n",
       "      <th>NumberOfOpenCreditLinesAndLoans</th>\n",
       "      <th>NumberRealEstateLoansOrLines</th>\n",
       "      <th>LinesLoans</th>\n",
       "      <th>NumberOfTime30-59DaysPastDueNotWorse</th>\n",
       "      <th>NumberOfTime60-89DaysPastDueNotWorse</th>\n",
       "      <th>NumberOfTimes90DaysLate</th>\n",
       "      <th>NumOfPastDue</th>\n",
       "      <th>SeriousDlqin2yrs</th>\n",
       "    </tr>\n",
       "  </thead>\n",
       "  <tbody>\n",
       "    <tr>\n",
       "      <th>0</th>\n",
       "      <td>45</td>\n",
       "      <td>working</td>\n",
       "      <td>2</td>\n",
       "      <td>1</td>\n",
       "      <td>0.766127</td>\n",
       "      <td>9120.0</td>\n",
       "      <td>7323.197016</td>\n",
       "      <td>0.802982</td>\n",
       "      <td>1796.802984</td>\n",
       "      <td>13</td>\n",
       "      <td>6</td>\n",
       "      <td>19</td>\n",
       "      <td>2</td>\n",
       "      <td>0</td>\n",
       "      <td>0</td>\n",
       "      <td>2</td>\n",
       "      <td>1</td>\n",
       "    </tr>\n",
       "    <tr>\n",
       "      <th>1</th>\n",
       "      <td>40</td>\n",
       "      <td>working</td>\n",
       "      <td>1</td>\n",
       "      <td>1</td>\n",
       "      <td>0.957151</td>\n",
       "      <td>2600.0</td>\n",
       "      <td>316.878123</td>\n",
       "      <td>0.121876</td>\n",
       "      <td>2283.121877</td>\n",
       "      <td>4</td>\n",
       "      <td>0</td>\n",
       "      <td>4</td>\n",
       "      <td>0</td>\n",
       "      <td>0</td>\n",
       "      <td>0</td>\n",
       "      <td>0</td>\n",
       "      <td>0</td>\n",
       "    </tr>\n",
       "    <tr>\n",
       "      <th>2</th>\n",
       "      <td>38</td>\n",
       "      <td>working</td>\n",
       "      <td>0</td>\n",
       "      <td>0</td>\n",
       "      <td>0.658180</td>\n",
       "      <td>3042.0</td>\n",
       "      <td>258.914887</td>\n",
       "      <td>0.085113</td>\n",
       "      <td>2783.085113</td>\n",
       "      <td>2</td>\n",
       "      <td>0</td>\n",
       "      <td>2</td>\n",
       "      <td>1</td>\n",
       "      <td>0</td>\n",
       "      <td>1</td>\n",
       "      <td>2</td>\n",
       "      <td>0</td>\n",
       "    </tr>\n",
       "    <tr>\n",
       "      <th>3</th>\n",
       "      <td>30</td>\n",
       "      <td>working</td>\n",
       "      <td>0</td>\n",
       "      <td>0</td>\n",
       "      <td>0.233810</td>\n",
       "      <td>3300.0</td>\n",
       "      <td>118.963951</td>\n",
       "      <td>0.036050</td>\n",
       "      <td>3181.036049</td>\n",
       "      <td>5</td>\n",
       "      <td>0</td>\n",
       "      <td>5</td>\n",
       "      <td>0</td>\n",
       "      <td>0</td>\n",
       "      <td>0</td>\n",
       "      <td>0</td>\n",
       "      <td>0</td>\n",
       "    </tr>\n",
       "    <tr>\n",
       "      <th>4</th>\n",
       "      <td>49</td>\n",
       "      <td>working</td>\n",
       "      <td>0</td>\n",
       "      <td>0</td>\n",
       "      <td>0.907239</td>\n",
       "      <td>63588.0</td>\n",
       "      <td>1584.975094</td>\n",
       "      <td>0.024926</td>\n",
       "      <td>62003.024906</td>\n",
       "      <td>7</td>\n",
       "      <td>1</td>\n",
       "      <td>8</td>\n",
       "      <td>1</td>\n",
       "      <td>0</td>\n",
       "      <td>0</td>\n",
       "      <td>1</td>\n",
       "      <td>0</td>\n",
       "    </tr>\n",
       "  </tbody>\n",
       "</table>\n",
       "</div>"
      ],
      "text/plain": [
       "   age age_category  NumberOfDependents  WithDependents  \\\n",
       "0   45      working                   2               1   \n",
       "1   40      working                   1               1   \n",
       "2   38      working                   0               0   \n",
       "3   30      working                   0               0   \n",
       "4   49      working                   0               0   \n",
       "\n",
       "   RevolvingUtilizationOfUnsecuredLines  MonthlyIncome  MonthlyOutcome  \\\n",
       "0                              0.766127         9120.0     7323.197016   \n",
       "1                              0.957151         2600.0      316.878123   \n",
       "2                              0.658180         3042.0      258.914887   \n",
       "3                              0.233810         3300.0      118.963951   \n",
       "4                              0.907239        63588.0     1584.975094   \n",
       "\n",
       "   DebtRatio  MonthlyBalance  NumberOfOpenCreditLinesAndLoans  \\\n",
       "0   0.802982     1796.802984                               13   \n",
       "1   0.121876     2283.121877                                4   \n",
       "2   0.085113     2783.085113                                2   \n",
       "3   0.036050     3181.036049                                5   \n",
       "4   0.024926    62003.024906                                7   \n",
       "\n",
       "   NumberRealEstateLoansOrLines  LinesLoans  \\\n",
       "0                             6          19   \n",
       "1                             0           4   \n",
       "2                             0           2   \n",
       "3                             0           5   \n",
       "4                             1           8   \n",
       "\n",
       "   NumberOfTime30-59DaysPastDueNotWorse  NumberOfTime60-89DaysPastDueNotWorse  \\\n",
       "0                                     2                                     0   \n",
       "1                                     0                                     0   \n",
       "2                                     1                                     0   \n",
       "3                                     0                                     0   \n",
       "4                                     1                                     0   \n",
       "\n",
       "   NumberOfTimes90DaysLate  NumOfPastDue SeriousDlqin2yrs  \n",
       "0                        0             2                1  \n",
       "1                        0             0                0  \n",
       "2                        1             2                0  \n",
       "3                        0             0                0  \n",
       "4                        0             1                0  "
      ]
     },
     "execution_count": 39,
     "metadata": {},
     "output_type": "execute_result"
    }
   ],
   "source": [
    "data.head()"
   ]
  },
  {
   "cell_type": "code",
   "execution_count": 40,
   "metadata": {
    "collapsed": true
   },
   "outputs": [],
   "source": [
    "# ubacujemo sve varijable za sada\n",
    "X=data.select_dtypes(include=['int64', 'float64'])\n",
    "y=data['SeriousDlqin2yrs']"
   ]
  },
  {
   "cell_type": "code",
   "execution_count": 41,
   "metadata": {},
   "outputs": [
    {
     "name": "stdout",
     "output_type": "stream",
     "text": [
      "1: 10026 6.684044560297068%\n",
      "0: 139973 93.31595543970293%\n"
     ]
    },
    {
     "data": {
      "image/png": "[encoded data removed]",
      "text/plain": [
       "<matplotlib.figure.Figure at 0x1db2ed379b0>"
      ]
     },
     "metadata": {},
     "output_type": "display_data"
    }
   ],
   "source": [
    "rcParams['figure.figsize'] = 5,5 # graficki predstavljen disbalans klasa\n",
    "\n",
    "n=len(y)\n",
    "for value in y.unique():\n",
    "    count=len(y[y==value])\n",
    "    percentage = count/n*100\n",
    "    print(str(value)+': ' + str (count) + ' '+str(percentage)+'%') # prikaz disbalansa klasa\n",
    "    sns.countplot(y)"
   ]
  },
  {
   "cell_type": "markdown",
   "metadata": {},
   "source": [
    "# Treniranje više algoritama i interpretacija dobijenih rezultata"
   ]
  },
  {
   "cell_type": "code",
   "execution_count": 42,
   "metadata": {
    "collapsed": true
   },
   "outputs": [],
   "source": [
    "# Uvoz biblioteka za modelovanje i evaluaciju (tačnost klasifikacije)\n",
    "from sklearn.linear_model import LogisticRegression\n",
    "from sklearn.model_selection import train_test_split\n",
    "from sklearn.metrics import accuracy_score"
   ]
  },
  {
   "cell_type": "code",
   "execution_count": 43,
   "metadata": {
    "collapsed": true
   },
   "outputs": [],
   "source": [
    "# Podela skupa podataka na trening i test jer imamo dovoljno podataka\n",
    "X_train, X_test, y_train, y_test= train_test_split(X, y, test_size=0.25, random_state=42, stratify=y)"
   ]
  },
  {
   "cell_type": "markdown",
   "metadata": {},
   "source": [
    "## Logistička regresija"
   ]
  },
  {
   "cell_type": "code",
   "execution_count": 44,
   "metadata": {},
   "outputs": [
    {
     "name": "stdout",
     "output_type": "stream",
     "text": [
      "Tacnost klasifikacije: 0.933813333333\n"
     ]
    }
   ],
   "source": [
    "lr_model = LogisticRegression().fit(X_train, y_train)\n",
    "predictions = lr_model.predict(X_test)\n",
    "print('Tacnost klasifikacije: ' + str(accuracy_score(predictions, y_test))) # proba LR tacnost"
   ]
  },
  {
   "cell_type": "code",
   "execution_count": 45,
   "metadata": {
    "collapsed": true
   },
   "outputs": [],
   "source": [
    "from sklearn.metrics import confusion_matrix\n",
    "from sklearn.metrics import precision_score\n",
    "from sklearn.metrics import recall_score\n",
    "import numpy as np\n",
    "import itertools"
   ]
  },
  {
   "cell_type": "code",
   "execution_count": 46,
   "metadata": {
    "collapsed": true
   },
   "outputs": [],
   "source": [
    "def plot_confusion_matrix(cm, classes,\n",
    "                          normalize=False,\n",
    "                          title='Confusion matrix',\n",
    "                          cmap=plt.cm.Blues):\n",
    "    \"\"\"\n",
    "    This function prints and plots the confusion matrix.\n",
    "    Normalization can be applied by setting `normalize=True`.\n",
    "    \"\"\"\n",
    "    if normalize:\n",
    "        cm = cm.astype('float') / cm.sum(axis=1)[:, np.newaxis]\n",
    "        title = title+' (Normalized)'\n",
    "\n",
    "    #print(cm)\n",
    "\n",
    "    plt.imshow(cm, interpolation='nearest', cmap=cmap)\n",
    "    plt.title(title)\n",
    "    plt.colorbar()\n",
    "    tick_marks = np.arange(len(classes))\n",
    "    plt.xticks(tick_marks, classes, rotation=45)\n",
    "    plt.yticks(tick_marks, classes)\n",
    "\n",
    "    fmt = '.2f' if normalize else 'd'\n",
    "    thresh = cm.max() / 2.\n",
    "    for i, j in itertools.product(range(cm.shape[0]), range(cm.shape[1])):\n",
    "        plt.text(j, i, format(cm[i, j], fmt),\n",
    "                 horizontalalignment=\"center\",\n",
    "                 color=\"white\" if cm[i, j] > thresh else \"black\")\n",
    "\n",
    "    plt.tight_layout()\n",
    "    plt.ylabel('True label')\n",
    "    plt.xlabel('Predicted label')"
   ]
  },
  {
   "cell_type": "code",
   "execution_count": 47,
   "metadata": {},
   "outputs": [
    {
     "data": {
      "text/plain": [
       "array([[34932,    61],\n",
       "       [ 2421,    86]], dtype=int64)"
      ]
     },
     "execution_count": 47,
     "metadata": {},
     "output_type": "execute_result"
    }
   ],
   "source": [
    "# Računanje matrice konfuzije\n",
    "conf=confusion_matrix(y_test, predictions)\n",
    "conf # prikaz matrice procene u originalnom obliku\n",
    "\n",
    "# Matrica konfuzije po redovima prikazuje tačne vrednosti, a po kolonama predviđene"
   ]
  },
  {
   "cell_type": "code",
   "execution_count": 48,
   "metadata": {},
   "outputs": [
    {
     "data": {
      "image/png": "[encoded data removed]",
      "text/plain": [
       "<matplotlib.figure.Figure at 0x1db31a96f28>"
      ]
     },
     "metadata": {},
     "output_type": "display_data"
    }
   ],
   "source": [
    "# Radi jednostavnije analize matrice koristimo pomoćnu metodu za vizualizaciju\n",
    "cls=y_train.unique() # uzimamo jedinstvene vrednosti\n",
    "plot_confusion_matrix(conf, cls, normalize = False)"
   ]
  },
  {
   "cell_type": "code",
   "execution_count": 49,
   "metadata": {},
   "outputs": [
    {
     "name": "stdout",
     "output_type": "stream",
     "text": [
      "Tacnost klasifikacije: 0.933813333333\n",
      "Preciznost: 0.585034013605\n",
      "Odziv: 0.034303948943\n"
     ]
    }
   ],
   "source": [
    "# Tacnost, Preciznost i Odziv inicijalnog modela\n",
    "print('Tacnost klasifikacije: ' + str(accuracy_score(y_test, predictions)))\n",
    "print('Preciznost: ' +str(precision_score(y_test, predictions)))\n",
    "print('Odziv: ' + str(recall_score(y_test, predictions)))\n",
    "\n",
    "#Na osnovu rezultata inicijalnog modela mozemo primetiti da iako je tacno relativno viskoka (>93%) \n",
    "#model ne predviđa dobro \"pozitivnu\" tj. manjinsku klasu. Mera \"Odziv\" nam otkriva ovu činjenicu: \n",
    "#manje od 1% pozitivne klase je identifikovano. Mera \"Preciznost\" nam govori u ovom slulaju da je od \n",
    "#svih predviđenih pozitivnih slučajeva, oko 54% je bilo tačno predviđeno."
   ]
  },
  {
   "cell_type": "markdown",
   "metadata": {},
   "source": [
    "## Drvo odlučivanja"
   ]
  },
  {
   "cell_type": "code",
   "execution_count": 50,
   "metadata": {
    "collapsed": true
   },
   "outputs": [],
   "source": [
    "from sklearn.tree import DecisionTreeClassifier"
   ]
  },
  {
   "cell_type": "code",
   "execution_count": 51,
   "metadata": {},
   "outputs": [
    {
     "name": "stdout",
     "output_type": "stream",
     "text": [
      "Drvo odlucivanja\n",
      "Tacnost klasifikacije: 0.9364\n",
      "Preciznost: 0.581989247312\n",
      "Odziv: 0.172716394097\n",
      "KNN\n",
      "Tacnost klasifikacije: 0.933546666667\n",
      "Preciznost: 0.727272727273\n",
      "Odziv: 0.00957319505385\n"
     ]
    }
   ],
   "source": [
    "tree = DecisionTreeClassifier(max_depth=5, random_state=2018)\n",
    "\n",
    "tree.fit(X_train, y_train)\n",
    "\n",
    "tree_pred = tree.predict(X_test)\n",
    "\n",
    "print('Drvo odlucivanja')\n",
    "print('Tacnost klasifikacije: ' + str(accuracy_score(y_test, tree_pred)))\n",
    "print('Preciznost: ' +str(precision_score(y_test, tree_pred)))\n",
    "print('Odziv: ' + str(recall_score(y_test, tree_pred)))\n"
   ]
  },
  {
   "cell_type": "code",
   "execution_count": 52,
   "metadata": {},
   "outputs": [
    {
     "data": {
      "text/plain": [
       "array([[34682,   311],\n",
       "       [ 2074,   433]], dtype=int64)"
      ]
     },
     "execution_count": 52,
     "metadata": {},
     "output_type": "execute_result"
    }
   ],
   "source": [
    "# Računanje matrice konfuzije za Drvo odlucivanja\n",
    "conf_tree=confusion_matrix(y_test, tree_pred)\n",
    "conf_tree # prikaz matrice procene u originalnom obliku\n",
    "\n",
    "# Matrica konfuzije po redovima prikazuje tačne vrednosti, a po kolonama predviđene"
   ]
  },
  {
   "cell_type": "code",
   "execution_count": 53,
   "metadata": {},
   "outputs": [
    {
     "data": {
      "image/png": "[encoded data removed]",
      "text/plain": [
       "<matplotlib.figure.Figure at 0x1db33305940>"
      ]
     },
     "metadata": {},
     "output_type": "display_data"
    }
   ],
   "source": [
    "# Radi jednostavnije analize matrice koristimo pomoćnu metodu za vizualizaciju\n",
    "cls=y_train.unique() # uzimamo jedinstvene vrednosti\n",
    "plot_confusion_matrix(conf_tree, cls, normalize = False)"
   ]
  },
  {
   "cell_type": "markdown",
   "metadata": {},
   "source": [
    "## Random forest"
   ]
  },
  {
   "cell_type": "code",
   "execution_count": 56,
   "metadata": {
    "scrolled": true
   },
   "outputs": [
    {
     "name": "stdout",
     "output_type": "stream",
     "text": [
      "Tacnost klasifikacije: 0.93648\n",
      "Preciznost: 0.572087658593\n",
      "Odziv: 0.197846031113\n"
     ]
    }
   ],
   "source": [
    "# RANDOM FOREST\n",
    "\n",
    "from sklearn.ensemble import RandomForestClassifier\n",
    "\n",
    "rf_model= RandomForestClassifier(n_estimators=500)\n",
    "\n",
    "rf_model.fit(X_train, y_train)\n",
    "\n",
    "rf_pred= rf_model.predict(X_test)\n",
    "print('Tacnost klasifikacije: ' + str(accuracy_score(y_test, rf_pred)))\n",
    "print('Preciznost: ' +str(precision_score(y_test, rf_pred)))\n",
    "print('Odziv: ' + str(recall_score(y_test, rf_pred)))"
   ]
  },
  {
   "cell_type": "code",
   "execution_count": 57,
   "metadata": {
    "scrolled": true
   },
   "outputs": [
    {
     "data": {
      "text/plain": [
       "array([[34622,   371],\n",
       "       [ 2011,   496]], dtype=int64)"
      ]
     },
     "execution_count": 57,
     "metadata": {},
     "output_type": "execute_result"
    }
   ],
   "source": [
    "# Računanje matrice konfuzije za RF\n",
    "conf_rf=confusion_matrix(y_test,rf_pred)\n",
    "conf_rf # prikaz matrice procene u originalnom obliku\n",
    "\n",
    "# Matrica konfuzije po redovima prikazuje tačne vrednosti, a po kolonama predviđene"
   ]
  },
  {
   "cell_type": "code",
   "execution_count": 58,
   "metadata": {
    "scrolled": true
   },
   "outputs": [
    {
     "data": {
      "image/png": "[encoded data removed]",
      "text/plain": [
       "<matplotlib.figure.Figure at 0x1db3459c240>"
      ]
     },
     "metadata": {},
     "output_type": "display_data"
    }
   ],
   "source": [
    "# Radi jednostavnije analize matrice koristimo pomoćnu metodu za vizualizaciju\n",
    "cls=y_train.unique() # uzimamo jedinstvene vrednosti\n",
    "plot_confusion_matrix(conf_rf, cls, normalize = False)"
   ]
  },
  {
   "cell_type": "markdown",
   "metadata": {},
   "source": [
    "## GBT"
   ]
  },
  {
   "cell_type": "code",
   "execution_count": 59,
   "metadata": {},
   "outputs": [
    {
     "name": "stdout",
     "output_type": "stream",
     "text": [
      "Tacnost klasifikacije: 0.936933333333\n",
      "Preciznost: 0.581235697941\n",
      "Odziv: 0.20263262864\n"
     ]
    }
   ],
   "source": [
    "from sklearn.ensemble import GradientBoostingClassifier\n",
    "gb_model=  GradientBoostingClassifier()\n",
    "\n",
    "gb_model.fit(X_train, y_train)\n",
    "\n",
    "gb_pred= gb_model.predict(X_test)\n",
    "print('Tacnost klasifikacije: ' + str(accuracy_score(y_test, gb_pred)))\n",
    "print('Preciznost: ' +str(precision_score(y_test, gb_pred)))\n",
    "print('Odziv: ' + str(recall_score(y_test, gb_pred)))"
   ]
  },
  {
   "cell_type": "code",
   "execution_count": 60,
   "metadata": {},
   "outputs": [
    {
     "data": {
      "text/plain": [
       "array([[34627,   366],\n",
       "       [ 1999,   508]], dtype=int64)"
      ]
     },
     "execution_count": 60,
     "metadata": {},
     "output_type": "execute_result"
    }
   ],
   "source": [
    "# Računanje matrice konfuzije za RF\n",
    "conf_gb=confusion_matrix(y_test,gb_pred)\n",
    "conf_gb # prikaz matrice procene u originalnom obliku\n",
    "\n",
    "# Matrica konfuzije po redovima prikazuje tačne vrednosti, a po kolonama predviđene"
   ]
  },
  {
   "cell_type": "code",
   "execution_count": 61,
   "metadata": {},
   "outputs": [
    {
     "data": {
      "image/png": "[encoded data removed]",
      "text/plain": [
       "<matplotlib.figure.Figure at 0x1db34771940>"
      ]
     },
     "metadata": {},
     "output_type": "display_data"
    }
   ],
   "source": [
    "# Radi jednostavnije analize matrice koristimo pomoćnu metodu za vizualizaciju\n",
    "cls=y_train.unique() # uzimamo jedinstvene vrednosti\n",
    "plot_confusion_matrix(conf_gb, cls, normalize = False)"
   ]
  },
  {
   "cell_type": "markdown",
   "metadata": {},
   "source": [
    "# Selekcija atributa i interpretacija dobijenih rezultata"
   ]
  },
  {
   "cell_type": "code",
   "execution_count": 62,
   "metadata": {},
   "outputs": [
    {
     "data": {
      "text/plain": [
       "Index(['age', 'age_category', 'NumberOfDependents', 'WithDependents',\n",
       "       'RevolvingUtilizationOfUnsecuredLines', 'MonthlyIncome',\n",
       "       'MonthlyOutcome', 'DebtRatio', 'MonthlyBalance',\n",
       "       'NumberOfOpenCreditLinesAndLoans', 'NumberRealEstateLoansOrLines',\n",
       "       'LinesLoans', 'NumberOfTime30-59DaysPastDueNotWorse',\n",
       "       'NumberOfTime60-89DaysPastDueNotWorse', 'NumberOfTimes90DaysLate',\n",
       "       'NumOfPastDue', 'SeriousDlqin2yrs'],\n",
       "      dtype='object')"
      ]
     },
     "execution_count": 62,
     "metadata": {},
     "output_type": "execute_result"
    }
   ],
   "source": [
    "data.columns"
   ]
  },
  {
   "cell_type": "code",
   "execution_count": 63,
   "metadata": {
    "collapsed": true
   },
   "outputs": [],
   "source": [
    "novi = data.drop(['NumberOfTime30-59DaysPastDueNotWorse','NumberOfTime60-89DaysPastDueNotWorse','NumberOfTimes90DaysLate','NumberOfDependents'],axis=1) \n",
    "# zbog velike korelacije izmedju ovih varijabli, izbacicemo ih jer smo napravili jednu od njih "
   ]
  },
  {
   "cell_type": "code",
   "execution_count": 64,
   "metadata": {},
   "outputs": [
    {
     "data": {
      "text/plain": [
       "Index(['age', 'age_category', 'WithDependents',\n",
       "       'RevolvingUtilizationOfUnsecuredLines', 'MonthlyIncome',\n",
       "       'MonthlyOutcome', 'DebtRatio', 'MonthlyBalance',\n",
       "       'NumberOfOpenCreditLinesAndLoans', 'NumberRealEstateLoansOrLines',\n",
       "       'LinesLoans', 'NumOfPastDue', 'SeriousDlqin2yrs'],\n",
       "      dtype='object')"
      ]
     },
     "execution_count": 64,
     "metadata": {},
     "output_type": "execute_result"
    }
   ],
   "source": [
    "novi.columns"
   ]
  },
  {
   "cell_type": "code",
   "execution_count": 65,
   "metadata": {
    "collapsed": true
   },
   "outputs": [],
   "source": [
    "novi= novi.drop(['age_category'],axis=1) # age_category kategoricka varijabla, ne treba nam za algoritme koji koriste numericke podatke"
   ]
  },
  {
   "cell_type": "code",
   "execution_count": 66,
   "metadata": {
    "collapsed": true
   },
   "outputs": [],
   "source": [
    "X=novi.select_dtypes(include=['int64', 'float64'])\n",
    "y=novi['SeriousDlqin2yrs']\n",
    "X_train, X_test, y_train, y_test= train_test_split(X, y, test_size=0.25, random_state=42, stratify=y)\n",
    "# pravimo novi test & train set jer smo izbacili neke varijable"
   ]
  },
  {
   "cell_type": "code",
   "execution_count": 67,
   "metadata": {
    "scrolled": true
   },
   "outputs": [
    {
     "data": {
      "text/plain": [
       "Index(['age', 'WithDependents', 'RevolvingUtilizationOfUnsecuredLines',\n",
       "       'MonthlyIncome', 'MonthlyOutcome', 'DebtRatio', 'MonthlyBalance',\n",
       "       'NumberOfOpenCreditLinesAndLoans', 'NumberRealEstateLoansOrLines',\n",
       "       'LinesLoans', 'NumOfPastDue'],\n",
       "      dtype='object')"
      ]
     },
     "execution_count": 67,
     "metadata": {},
     "output_type": "execute_result"
    }
   ],
   "source": [
    "X.columns"
   ]
  },
  {
   "cell_type": "markdown",
   "metadata": {},
   "source": [
    "## Lasso Regularization"
   ]
  },
  {
   "cell_type": "code",
   "execution_count": 141,
   "metadata": {
    "collapsed": true
   },
   "outputs": [],
   "source": [
    "# Koriscenjem Lasso Regularizacije izvrsicemo feature selection za LR\n",
    "\n",
    "from sklearn.preprocessing import MinMaxScaler\n",
    "RandomState = 42\n",
    "\n",
    "def rank_to_dict(ranks, names, order=1):\n",
    "    minmax = MinMaxScaler()\n",
    "    ranks = minmax.fit_transform(order*np.array([ranks]).T).T[0]\n",
    "    ranks = map(lambda x: round(x, 2), ranks)\n",
    "    return dict(zip(names, ranks))\n",
    "\n",
    "names = X.columns\n",
    "ranks = {}\n",
    "# pomocna funkcija za analizu Lasoo za LR"
   ]
  },
  {
   "cell_type": "code",
   "execution_count": 142,
   "metadata": {},
   "outputs": [
    {
     "name": "stdout",
     "output_type": "stream",
     "text": [
      "{'age': 0.0, 'WithDependents': 1.0, 'RevolvingUtilizationOfUnsecuredLines': 0.73999999999999999, 'MonthlyIncome': 0.51000000000000001, 'MonthlyOutcome': 0.75, 'DebtRatio': 0.48999999999999999, 'MonthlyBalance': 0.38, 'NumberOfOpenCreditLinesAndLoans': 0.68999999999999995, 'NumberRealEstateLoansOrLines': 0.82999999999999996, 'LinesLoans': 0.75, 'NumOfPastDue': 0.98999999999999999}\n"
     ]
    }
   ],
   "source": [
    "from sklearn.preprocessing import StandardScaler # Lasso za LR l1 penal\n",
    "\n",
    "scaler = StandardScaler() # transformisanje podataka za LR fitting\n",
    "std_data = scaler.fit_transform(X_train.values)\n",
    "\n",
    "model_LogRegLASSO = LogisticRegression(penalty='l1', C=0.1, random_state=42, solver='liblinear', n_jobs=1) # uspostavljanje modela\n",
    "model_LogRegLASSO.fit(std_data, y_train)\n",
    "\n",
    "ranks[\"LogRegLASSO\"] = rank_to_dict(list(map(float, model_LogRegLASSO.coef_.reshape(len(names), -1))), names, order=1)\n",
    "print(ranks[\"LogRegLASSO\"])"
   ]
  },
  {
   "cell_type": "code",
   "execution_count": 143,
   "metadata": {},
   "outputs": [
    {
     "data": {
      "image/png": "[encoded data removed]",
      "text/plain": [
       "<matplotlib.figure.Figure at 0x1db2f8edfd0>"
      ]
     },
     "metadata": {},
     "output_type": "display_data"
    }
   ],
   "source": [
    "import operator\n",
    "listsLASSO = sorted(ranks[\"LogRegLASSO\"].items(), key=operator.itemgetter(1)) # plotujemo \n",
    "# convert list>array>dataframe\n",
    "dfLASSO = pd.DataFrame(np.array(listsLASSO).reshape(len(listsLASSO), 2),\n",
    "                       columns=['Features', 'Ranks']).sort_values('Ranks')\n",
    "dfLASSO['Ranks'] = dfLASSO['Ranks'].astype(float)\n",
    "\n",
    "dfLASSO.plot.bar(x='Features', y='Ranks', color='blue')\n",
    "plt.xticks(rotation=90)\n",
    "plt.show()"
   ]
  },
  {
   "cell_type": "code",
   "execution_count": 71,
   "metadata": {
    "collapsed": true
   },
   "outputs": [],
   "source": [
    "# vidimo da su najbitniji atributi 'WithDependents' & 'NumOfPastDue' izvedene varijable iz ostalih"
   ]
  },
  {
   "cell_type": "code",
   "execution_count": 136,
   "metadata": {
    "collapsed": true
   },
   "outputs": [],
   "source": [
    "X=novi.select_dtypes(include=['int64', 'float64'])\n",
    "y=novi['SeriousDlqin2yrs']\n",
    "X_train, X_test, y_train, y_test= train_test_split(X, y, test_size=0.25, random_state=42, stratify=y)"
   ]
  },
  {
   "cell_type": "markdown",
   "metadata": {},
   "source": [
    "## SelectFromModel"
   ]
  },
  {
   "cell_type": "code",
   "execution_count": 137,
   "metadata": {
    "scrolled": true
   },
   "outputs": [
    {
     "name": "stdout",
     "output_type": "stream",
     "text": [
      "RF:  0.183323359266\n",
      "DT:  0.234191103132\n"
     ]
    }
   ],
   "source": [
    "from sklearn.pipeline import Pipeline\n",
    "from sklearn.feature_selection import SelectFromModel\n",
    "from sklearn.model_selection import cross_val_score\n",
    "\n",
    "\n",
    "pipe1 = Pipeline([('feature_selection', SelectFromModel(estimator=GradientBoostingClassifier())),\n",
    "                   ('classification', RandomForestClassifier())])\n",
    "\n",
    "pipe2 = Pipeline([('feature_selection', SelectFromModel(estimator=GradientBoostingClassifier())),\n",
    "                   ('classification', DecisionTreeClassifier())])\n",
    "\n",
    "\n",
    "print(\"RF: \", cross_val_score(pipe1, X,y, scoring='recall').mean())\n",
    "print(\"DT: \", cross_val_score(pipe2, X,y, scoring='recall').mean())"
   ]
  },
  {
   "cell_type": "code",
   "execution_count": 138,
   "metadata": {
    "scrolled": true
   },
   "outputs": [
    {
     "name": "stdout",
     "output_type": "stream",
     "text": [
      "RF:  (149999, 3)\n",
      "DT:  (149999, 3)\n"
     ]
    }
   ],
   "source": [
    "selection1=SelectFromModel(GradientBoostingClassifier()) \n",
    "fitted_selection1=selection.fit(X,y)\n",
    "shape1 = fitted_selection1.transform(X).shape #biraju se 3 najbitnija atributa za pokretanje RandomForest algoritma\n",
    "\n",
    "selection2=SelectFromModel(DecisionTreeClassifier()) \n",
    "fitted_selection2=selection.fit(X,y)\n",
    "shape2 = fitted_selection2.transform(X).shape #biraju se 3 najbitnija atributa za pokretanje RandomForest algoritma\n",
    "\n",
    "print(\"RF: \",shape1)\n",
    "print(\"DT: \",shape2)"
   ]
  },
  {
   "cell_type": "code",
   "execution_count": 140,
   "metadata": {},
   "outputs": [
    {
     "data": {
      "text/plain": [
       "Index(['age', 'WithDependents', 'RevolvingUtilizationOfUnsecuredLines',\n",
       "       'MonthlyIncome', 'MonthlyOutcome', 'DebtRatio', 'MonthlyBalance',\n",
       "       'NumberOfOpenCreditLinesAndLoans', 'NumberRealEstateLoansOrLines',\n",
       "       'LinesLoans', 'NumOfPastDue'],\n",
       "      dtype='object')"
      ]
     },
     "execution_count": 140,
     "metadata": {},
     "output_type": "execute_result"
    }
   ],
   "source": [
    "X.columns"
   ]
  },
  {
   "cell_type": "code",
   "execution_count": 139,
   "metadata": {},
   "outputs": [
    {
     "data": {
      "text/plain": [
       "array([ True, False,  True, False, False, False, False, False, False,\n",
       "       False,  True], dtype=bool)"
      ]
     },
     "execution_count": 139,
     "metadata": {},
     "output_type": "execute_result"
    }
   ],
   "source": [
    "fitted_selection1.get_support()"
   ]
  },
  {
   "cell_type": "code",
   "execution_count": 83,
   "metadata": {
    "collapsed": true
   },
   "outputs": [],
   "source": [
    "# napravicemo novi df samo sa \"bitnijim varijablama\""
   ]
  },
  {
   "cell_type": "code",
   "execution_count": 84,
   "metadata": {
    "collapsed": true
   },
   "outputs": [],
   "source": [
    "bitne = novi.drop(['age','NumberRealEstateLoansOrLines','NumberOfOpenCreditLinesAndLoans','DebtRatio','MonthlyBalance'],axis=1)"
   ]
  },
  {
   "cell_type": "code",
   "execution_count": 146,
   "metadata": {},
   "outputs": [
    {
     "data": {
      "text/plain": [
       "Index(['WithDependents', 'RevolvingUtilizationOfUnsecuredLines',\n",
       "       'MonthlyIncome', 'MonthlyOutcome', 'LinesLoans', 'NumOfPastDue',\n",
       "       'SeriousDlqin2yrs'],\n",
       "      dtype='object')"
      ]
     },
     "execution_count": 146,
     "metadata": {},
     "output_type": "execute_result"
    }
   ],
   "source": [
    "bitne.columns"
   ]
  },
  {
   "cell_type": "code",
   "execution_count": 148,
   "metadata": {
    "collapsed": true
   },
   "outputs": [],
   "source": [
    "top3 = bitne[['WithDependents', 'RevolvingUtilizationOfUnsecuredLines', 'NumOfPastDue','SeriousDlqin2yrs']];"
   ]
  },
  {
   "cell_type": "code",
   "execution_count": 152,
   "metadata": {
    "collapsed": true
   },
   "outputs": [],
   "source": [
    "X=top3.select_dtypes(include=['int64', 'float64'])\n",
    "y=top3['SeriousDlqin2yrs']\n",
    "X_train, X_test, y_train, y_test= train_test_split(X, y, test_size=0.25, random_state=42, stratify=y)\n",
    "# pravimo novi test & train set jer smo izbacili neke varijable"
   ]
  },
  {
   "cell_type": "code",
   "execution_count": 157,
   "metadata": {
    "scrolled": true
   },
   "outputs": [
    {
     "data": {
      "text/plain": [
       "Index(['WithDependents', 'RevolvingUtilizationOfUnsecuredLines',\n",
       "       'NumOfPastDue'],\n",
       "      dtype='object')"
      ]
     },
     "execution_count": 157,
     "metadata": {},
     "output_type": "execute_result"
    }
   ],
   "source": [
    "X_test.columns"
   ]
  },
  {
   "cell_type": "markdown",
   "metadata": {},
   "source": [
    "## Pokretanje algoritama sa najbitnijim varijablama"
   ]
  },
  {
   "cell_type": "markdown",
   "metadata": {},
   "source": [
    "### Logisticka regresija"
   ]
  },
  {
   "cell_type": "code",
   "execution_count": 154,
   "metadata": {
    "scrolled": true
   },
   "outputs": [
    {
     "name": "stdout",
     "output_type": "stream",
     "text": [
      "Tacnost klasifikacije: 0.933466666667\n",
      "Preciznost: 0.590909090909\n",
      "Odziv: 0.0155564419625\n"
     ]
    }
   ],
   "source": [
    "lr_model = LogisticRegression().fit(X_train, y_train)\n",
    "predictions = lr_model.predict(X_test)\n",
    "\n",
    "print('Tacnost klasifikacije: ' + str(accuracy_score(y_test, predictions)))\n",
    "print('Preciznost: ' +str(precision_score(y_test, predictions)))\n",
    "print('Odziv: ' + str(recall_score(y_test, predictions)))"
   ]
  },
  {
   "cell_type": "markdown",
   "metadata": {},
   "source": [
    "### Drvo odlučivanja"
   ]
  },
  {
   "cell_type": "code",
   "execution_count": 155,
   "metadata": {},
   "outputs": [
    {
     "name": "stdout",
     "output_type": "stream",
     "text": [
      "Drvo odlucivanja\n",
      "Tacnost klasifikacije: 0.93592\n",
      "Preciznost: 0.598113207547\n",
      "Odziv: 0.126445951336\n"
     ]
    }
   ],
   "source": [
    "tree = DecisionTreeClassifier(max_depth=5, random_state=42)\n",
    "tree.fit(X_train, y_train)\n",
    "print('Drvo odlucivanja')\n",
    "print('Tacnost klasifikacije: ' + str(accuracy_score(y_test, tree_pred)))\n",
    "print('Preciznost: ' +str(precision_score(y_test, tree_pred)))\n",
    "print('Odziv: ' + str(recall_score(y_test, tree_pred)))"
   ]
  },
  {
   "cell_type": "markdown",
   "metadata": {},
   "source": [
    "### Šuma stabala"
   ]
  },
  {
   "cell_type": "code",
   "execution_count": 156,
   "metadata": {
    "scrolled": true
   },
   "outputs": [
    {
     "name": "stdout",
     "output_type": "stream",
     "text": [
      "Tacnost klasifikacije: 0.906773333333\n",
      "Preciznost: 0.273061037173\n",
      "Odziv: 0.23733546071\n"
     ]
    }
   ],
   "source": [
    "rf_model= RandomForestClassifier(n_estimators=500)\n",
    "\n",
    "rf_model.fit(X_train, y_train)\n",
    "\n",
    "rf_pred= rf_model.predict(X_test)\n",
    "print('Tacnost klasifikacije: ' + str(accuracy_score(y_test, rf_pred)))\n",
    "print('Preciznost: ' +str(precision_score(y_test, rf_pred)))\n",
    "print('Odziv: ' + str(recall_score(y_test, rf_pred)))"
   ]
  },
  {
   "cell_type": "markdown",
   "metadata": {},
   "source": [
    "### Povećanje gradijenta"
   ]
  },
  {
   "cell_type": "code",
   "execution_count": 158,
   "metadata": {},
   "outputs": [
    {
     "name": "stdout",
     "output_type": "stream",
     "text": [
      "Tacnost klasifikacije: 0.935333333333\n",
      "Preciznost: 0.554232804233\n",
      "Odziv: 0.167132030315\n"
     ]
    }
   ],
   "source": [
    "gb_model=  GradientBoostingClassifier(n_estimators=500)\n",
    "\n",
    "gb_model.fit(X_train, y_train)\n",
    "\n",
    "gb_pred= gb_model.predict(X_test)\n",
    "print('Tacnost klasifikacije: ' + str(accuracy_score(y_test, gb_pred)))\n",
    "print('Preciznost: ' +str(precision_score(y_test, gb_pred)))\n",
    "print('Odziv: ' + str(recall_score(y_test, gb_pred)))"
   ]
  },
  {
   "cell_type": "markdown",
   "metadata": {},
   "source": [
    "# Optimizacija parametara i interpretacija dobijenih rezultata"
   ]
  },
  {
   "cell_type": "markdown",
   "metadata": {},
   "source": [
    "### Optimizacija parametra C kod Logističke regresije"
   ]
  },
  {
   "cell_type": "code",
   "execution_count": 159,
   "metadata": {},
   "outputs": [
    {
     "data": {
      "text/plain": [
       "GridSearchCV(cv=5, error_score='raise',\n",
       "       estimator=LogisticRegression(C=1.0, class_weight={0: 1.0, 1: 10.0}, dual=False,\n",
       "          fit_intercept=True, intercept_scaling=1, max_iter=100,\n",
       "          multi_class='ovr', n_jobs=1, penalty='l2', random_state=None,\n",
       "          solver='liblinear', tol=0.0001, verbose=0, warm_start=False),\n",
       "       fit_params=None, iid=True, n_jobs=1,\n",
       "       param_grid=[{'C': [0.001, 0.005, 0.01, 0.05, 0.1, 0.5, 1, 5, 10, 50]}],\n",
       "       pre_dispatch='2*n_jobs', refit=True, return_train_score='warn',\n",
       "       scoring='recall', verbose=0)"
      ]
     },
     "execution_count": 159,
     "metadata": {},
     "output_type": "execute_result"
    }
   ],
   "source": [
    "# GRID SEARCH FOR C (LR)\n",
    "\n",
    "params = [{'C':[0.001,0.005,0.01,0.05,0.1,0.5,1,5,10,50]}]  #vrednosti parametara koje treba probati\n",
    "\n",
    "grid = GridSearchCV(LogisticRegression(class_weight={0: 1.,1: 10.}), params, cv=5, scoring='recall')\n",
    "grid.fit(X_train,y_train)"
   ]
  },
  {
   "cell_type": "code",
   "execution_count": 160,
   "metadata": {
    "scrolled": true
   },
   "outputs": [
    {
     "name": "stdout",
     "output_type": "stream",
     "text": [
      "Best param:  {'C': 0.001}\n",
      "[ 0.39353766  0.39353766  0.39353766  0.39353766  0.39353766  0.39353766\n",
      "  0.39353766  0.39353766  0.39353766  0.39353766]\n",
      "[{'C': 0.001}, {'C': 0.005}, {'C': 0.01}, {'C': 0.05}, {'C': 0.1}, {'C': 0.5}, {'C': 1}, {'C': 5}, {'C': 10}, {'C': 50}]\n"
     ]
    }
   ],
   "source": [
    "print('Best param: ',grid.best_params_)\n",
    "print(grid.cv_results_['mean_test_score'])\n",
    "print(grid.cv_results_['params']) #najbolji je {'C': 0.001}\n"
   ]
  },
  {
   "cell_type": "markdown",
   "metadata": {},
   "source": [
    "### Optimizacija parametara max_depth kod Stabla odlučivanja"
   ]
  },
  {
   "cell_type": "code",
   "execution_count": 161,
   "metadata": {},
   "outputs": [
    {
     "data": {
      "text/plain": [
       "GridSearchCV(cv=5, error_score='raise',\n",
       "       estimator=DecisionTreeClassifier(class_weight=None, criterion='gini', max_depth=None,\n",
       "            max_features=None, max_leaf_nodes=None,\n",
       "            min_impurity_decrease=0.0, min_impurity_split=None,\n",
       "            min_samples_leaf=1, min_samples_split=2,\n",
       "            min_weight_fraction_leaf=0.0, presort=False, random_state=None,\n",
       "            splitter='best'),\n",
       "       fit_params=None, iid=True, n_jobs=1,\n",
       "       param_grid=[{'max_depth': [10, 11, 12, 13, 14, 15, 16, 17, 18, 19, 20]}],\n",
       "       pre_dispatch='2*n_jobs', refit=True, return_train_score='warn',\n",
       "       scoring='recall', verbose=0)"
      ]
     },
     "execution_count": 161,
     "metadata": {},
     "output_type": "execute_result"
    }
   ],
   "source": [
    "# GRID SEARCH FOR MAX_DEPTH (DT)\n",
    "params = [{'max_depth':[10,11,12,13,14,15,16,17,18,19,20]}]  #vrednosti parametara koje treba probati\n",
    "\n",
    "grid = GridSearchCV(DecisionTreeClassifier(), params, cv=5, scoring='recall')\n",
    "grid.fit(X_train,y_train)"
   ]
  },
  {
   "cell_type": "code",
   "execution_count": 162,
   "metadata": {
    "scrolled": true
   },
   "outputs": [
    {
     "name": "stdout",
     "output_type": "stream",
     "text": [
      "Best param:  {'max_depth': 20}\n",
      "[ 0.16425421  0.16771375  0.16079368  0.17209986  0.1780842   0.17968054\n",
      "  0.18220592  0.17901374  0.1846003   0.18499858  0.18912145]\n",
      "[{'max_depth': 10}, {'max_depth': 11}, {'max_depth': 12}, {'max_depth': 13}, {'max_depth': 14}, {'max_depth': 15}, {'max_depth': 16}, {'max_depth': 17}, {'max_depth': 18}, {'max_depth': 19}, {'max_depth': 20}]\n"
     ]
    }
   ],
   "source": [
    "print('Best param: ',grid.best_params_)\n",
    "print(grid.cv_results_['mean_test_score'])\n",
    "print(grid.cv_results_['params']) #best max_depth: 20"
   ]
  },
  {
   "cell_type": "markdown",
   "metadata": {},
   "source": [
    "### Optimizacija parametara min_samples_leaf kod Stabla odlučivanja"
   ]
  },
  {
   "cell_type": "code",
   "execution_count": 163,
   "metadata": {},
   "outputs": [
    {
     "data": {
      "text/plain": [
       "GridSearchCV(cv=5, error_score='raise',\n",
       "       estimator=DecisionTreeClassifier(class_weight=None, criterion='gini', max_depth=None,\n",
       "            max_features=None, max_leaf_nodes=None,\n",
       "            min_impurity_decrease=0.0, min_impurity_split=None,\n",
       "            min_samples_leaf=1, min_samples_split=2,\n",
       "            min_weight_fraction_leaf=0.0, presort=False, random_state=None,\n",
       "            splitter='best'),\n",
       "       fit_params=None, iid=True, n_jobs=1,\n",
       "       param_grid=[{'min_samples_leaf': [1, 2, 3, 4, 5, 6, 7, 8, 9, 10]}],\n",
       "       pre_dispatch='2*n_jobs', refit=True, return_train_score='warn',\n",
       "       scoring='recall', verbose=0)"
      ]
     },
     "execution_count": 163,
     "metadata": {},
     "output_type": "execute_result"
    }
   ],
   "source": [
    "# GRID SEARCH FOR min_samples_leaf (DT)\n",
    "\n",
    "params = [{'min_samples_leaf':[1,2,3,4,5,6,7,8,9,10]}]  #vrednosti parametara koje treba probati\n",
    "\n",
    "grid = GridSearchCV(DecisionTreeClassifier(), params, cv=5, scoring='recall')\n",
    "grid.fit(X_train,y_train)"
   ]
  },
  {
   "cell_type": "code",
   "execution_count": 164,
   "metadata": {
    "scrolled": true
   },
   "outputs": [
    {
     "name": "stdout",
     "output_type": "stream",
     "text": [
      "Best param:  {'min_samples_leaf': 1}\n",
      "[ 0.22263685  0.17861439  0.19789994  0.17342867  0.18579728  0.17489161\n",
      "  0.17582247  0.16757615  0.17303014  0.16185702]\n",
      "[{'min_samples_leaf': 1}, {'min_samples_leaf': 2}, {'min_samples_leaf': 3}, {'min_samples_leaf': 4}, {'min_samples_leaf': 5}, {'min_samples_leaf': 6}, {'min_samples_leaf': 7}, {'min_samples_leaf': 8}, {'min_samples_leaf': 9}, {'min_samples_leaf': 10}]\n"
     ]
    }
   ],
   "source": [
    "print('Best param: ',grid.best_params_)\n",
    "print(grid.cv_results_['mean_test_score'])\n",
    "print(grid.cv_results_['params']) #best min_samples_leaf:1"
   ]
  },
  {
   "cell_type": "markdown",
   "metadata": {},
   "source": [
    "### Optimizacija parametara max_leaf_nodes kod Stabla odlučivanja"
   ]
  },
  {
   "cell_type": "code",
   "execution_count": 165,
   "metadata": {},
   "outputs": [
    {
     "data": {
      "text/plain": [
       "GridSearchCV(cv=5, error_score='raise',\n",
       "       estimator=DecisionTreeClassifier(class_weight=None, criterion='gini', max_depth=None,\n",
       "            max_features=None, max_leaf_nodes=None,\n",
       "            min_impurity_decrease=0.0, min_impurity_split=None,\n",
       "            min_samples_leaf=1, min_samples_split=2,\n",
       "            min_weight_fraction_leaf=0.0, presort=False, random_state=None,\n",
       "            splitter='best'),\n",
       "       fit_params=None, iid=True, n_jobs=1,\n",
       "       param_grid=[{'max_leaf_nodes': [2, 3, 4, 5, 6, 7, 8, 9, 10]}],\n",
       "       pre_dispatch='2*n_jobs', refit=True, return_train_score='warn',\n",
       "       scoring='recall', verbose=0)"
      ]
     },
     "execution_count": 165,
     "metadata": {},
     "output_type": "execute_result"
    }
   ],
   "source": [
    "# GRID SEARCH FOR max_leaf_nodes (DT)\n",
    "\n",
    "params = [{'max_leaf_nodes':[2,3,4,5,6,7,8,9,10]}]  #vrednosti parametara koje treba probati\n",
    "\n",
    "grid = GridSearchCV(DecisionTreeClassifier(), params, cv=5, scoring='recall')\n",
    "grid.fit(X_train,y_train)"
   ]
  },
  {
   "cell_type": "code",
   "execution_count": 166,
   "metadata": {
    "scrolled": true
   },
   "outputs": [
    {
     "name": "stdout",
     "output_type": "stream",
     "text": [
      "Best param:  {'max_leaf_nodes': 4}\n",
      "[ 0.          0.13008168  0.22117291  0.22117291  0.22117291  0.15893171\n",
      "  0.15893171  0.15893171  0.15893171]\n",
      "[{'max_leaf_nodes': 2}, {'max_leaf_nodes': 3}, {'max_leaf_nodes': 4}, {'max_leaf_nodes': 5}, {'max_leaf_nodes': 6}, {'max_leaf_nodes': 7}, {'max_leaf_nodes': 8}, {'max_leaf_nodes': 9}, {'max_leaf_nodes': 10}]\n"
     ]
    }
   ],
   "source": [
    "print('Best param: ',grid.best_params_)\n",
    "print(grid.cv_results_['mean_test_score'])\n",
    "print(grid.cv_results_['params']) #'max_leaf_nodes': 4"
   ]
  },
  {
   "cell_type": "code",
   "execution_count": 101,
   "metadata": {
    "collapsed": true
   },
   "outputs": [],
   "source": [
    "# GRID SEARCH FOR n_estimators (RF)\n",
    "\n",
    "#params = [{'n_estimators':[100,200,300,400,500,600,700,800]}]  #vrednosti parametara koje treba probati\n",
    "\n",
    "#grid = GridSearchCV(RandomForestClassifier(), params, cv=5, scoring='recall')\n",
    "#grid.fit(X_train,y_train) # nece ovo nikad odraditi"
   ]
  },
  {
   "cell_type": "code",
   "execution_count": 118,
   "metadata": {},
   "outputs": [],
   "source": [
    "# print('Best param: ',grid.best_params_)\n",
    "# print(grid.cv_results_['mean_test_score'])\n",
    "# print(grid.cv_results_['params']) "
   ]
  },
  {
   "cell_type": "markdown",
   "metadata": {},
   "source": [
    "### Optimizacija parametara max_depth kod GBT-a"
   ]
  },
  {
   "cell_type": "code",
   "execution_count": 172,
   "metadata": {},
   "outputs": [
    {
     "ename": "KeyboardInterrupt",
     "evalue": "",
     "output_type": "error",
     "traceback": [
      "\u001b[1;31m---------------------------------------------------------------------------\u001b[0m",
      "\u001b[1;31mKeyboardInterrupt\u001b[0m                         Traceback (most recent call last)",
      "\u001b[1;32m<ipython-input-172-2b065e0af2ad>\u001b[0m in \u001b[0;36m<module>\u001b[1;34m()\u001b[0m\n\u001b[0;32m      3\u001b[0m \u001b[1;33m\u001b[0m\u001b[0m\n\u001b[0;32m      4\u001b[0m \u001b[0mgrid\u001b[0m \u001b[1;33m=\u001b[0m \u001b[0mGridSearchCV\u001b[0m\u001b[1;33m(\u001b[0m\u001b[0mGradientBoostingClassifier\u001b[0m\u001b[1;33m(\u001b[0m\u001b[1;33m)\u001b[0m\u001b[1;33m,\u001b[0m \u001b[0mparams\u001b[0m\u001b[1;33m,\u001b[0m \u001b[0mcv\u001b[0m\u001b[1;33m=\u001b[0m\u001b[1;36m5\u001b[0m\u001b[1;33m,\u001b[0m \u001b[0mscoring\u001b[0m\u001b[1;33m=\u001b[0m\u001b[1;34m'recall'\u001b[0m\u001b[1;33m)\u001b[0m\u001b[1;33m\u001b[0m\u001b[0m\n\u001b[1;32m----> 5\u001b[1;33m \u001b[0mgrid\u001b[0m\u001b[1;33m.\u001b[0m\u001b[0mfit\u001b[0m\u001b[1;33m(\u001b[0m\u001b[0mX_train\u001b[0m\u001b[1;33m,\u001b[0m\u001b[0my_train\u001b[0m\u001b[1;33m)\u001b[0m\u001b[1;33m\u001b[0m\u001b[0m\n\u001b[0m",
      "\u001b[1;32m~\\Anaconda3\\lib\\site-packages\\sklearn\\model_selection\\_search.py\u001b[0m in \u001b[0;36mfit\u001b[1;34m(self, X, y, groups, **fit_params)\u001b[0m\n\u001b[0;32m    637\u001b[0m                                   error_score=self.error_score)\n\u001b[0;32m    638\u001b[0m           for parameters, (train, test) in product(candidate_params,\n\u001b[1;32m--> 639\u001b[1;33m                                                    cv.split(X, y, groups)))\n\u001b[0m\u001b[0;32m    640\u001b[0m \u001b[1;33m\u001b[0m\u001b[0m\n\u001b[0;32m    641\u001b[0m         \u001b[1;31m# if one choose to see train score, \"out\" will contain train score info\u001b[0m\u001b[1;33m\u001b[0m\u001b[1;33m\u001b[0m\u001b[0m\n",
      "\u001b[1;32m~\\Anaconda3\\lib\\site-packages\\sklearn\\externals\\joblib\\parallel.py\u001b[0m in \u001b[0;36m__call__\u001b[1;34m(self, iterable)\u001b[0m\n\u001b[0;32m    777\u001b[0m             \u001b[1;31m# was dispatched. In particular this covers the edge\u001b[0m\u001b[1;33m\u001b[0m\u001b[1;33m\u001b[0m\u001b[0m\n\u001b[0;32m    778\u001b[0m             \u001b[1;31m# case of Parallel used with an exhausted iterator.\u001b[0m\u001b[1;33m\u001b[0m\u001b[1;33m\u001b[0m\u001b[0m\n\u001b[1;32m--> 779\u001b[1;33m             \u001b[1;32mwhile\u001b[0m \u001b[0mself\u001b[0m\u001b[1;33m.\u001b[0m\u001b[0mdispatch_one_batch\u001b[0m\u001b[1;33m(\u001b[0m\u001b[0miterator\u001b[0m\u001b[1;33m)\u001b[0m\u001b[1;33m:\u001b[0m\u001b[1;33m\u001b[0m\u001b[0m\n\u001b[0m\u001b[0;32m    780\u001b[0m                 \u001b[0mself\u001b[0m\u001b[1;33m.\u001b[0m\u001b[0m_iterating\u001b[0m \u001b[1;33m=\u001b[0m \u001b[1;32mTrue\u001b[0m\u001b[1;33m\u001b[0m\u001b[0m\n\u001b[0;32m    781\u001b[0m             \u001b[1;32melse\u001b[0m\u001b[1;33m:\u001b[0m\u001b[1;33m\u001b[0m\u001b[0m\n",
      "\u001b[1;32m~\\Anaconda3\\lib\\site-packages\\sklearn\\externals\\joblib\\parallel.py\u001b[0m in \u001b[0;36mdispatch_one_batch\u001b[1;34m(self, iterator)\u001b[0m\n\u001b[0;32m    623\u001b[0m                 \u001b[1;32mreturn\u001b[0m \u001b[1;32mFalse\u001b[0m\u001b[1;33m\u001b[0m\u001b[0m\n\u001b[0;32m    624\u001b[0m             \u001b[1;32melse\u001b[0m\u001b[1;33m:\u001b[0m\u001b[1;33m\u001b[0m\u001b[0m\n\u001b[1;32m--> 625\u001b[1;33m                 \u001b[0mself\u001b[0m\u001b[1;33m.\u001b[0m\u001b[0m_dispatch\u001b[0m\u001b[1;33m(\u001b[0m\u001b[0mtasks\u001b[0m\u001b[1;33m)\u001b[0m\u001b[1;33m\u001b[0m\u001b[0m\n\u001b[0m\u001b[0;32m    626\u001b[0m                 \u001b[1;32mreturn\u001b[0m \u001b[1;32mTrue\u001b[0m\u001b[1;33m\u001b[0m\u001b[0m\n\u001b[0;32m    627\u001b[0m \u001b[1;33m\u001b[0m\u001b[0m\n",
      "\u001b[1;32m~\\Anaconda3\\lib\\site-packages\\sklearn\\externals\\joblib\\parallel.py\u001b[0m in \u001b[0;36m_dispatch\u001b[1;34m(self, batch)\u001b[0m\n\u001b[0;32m    586\u001b[0m         \u001b[0mdispatch_timestamp\u001b[0m \u001b[1;33m=\u001b[0m \u001b[0mtime\u001b[0m\u001b[1;33m.\u001b[0m\u001b[0mtime\u001b[0m\u001b[1;33m(\u001b[0m\u001b[1;33m)\u001b[0m\u001b[1;33m\u001b[0m\u001b[0m\n\u001b[0;32m    587\u001b[0m         \u001b[0mcb\u001b[0m \u001b[1;33m=\u001b[0m \u001b[0mBatchCompletionCallBack\u001b[0m\u001b[1;33m(\u001b[0m\u001b[0mdispatch_timestamp\u001b[0m\u001b[1;33m,\u001b[0m \u001b[0mlen\u001b[0m\u001b[1;33m(\u001b[0m\u001b[0mbatch\u001b[0m\u001b[1;33m)\u001b[0m\u001b[1;33m,\u001b[0m \u001b[0mself\u001b[0m\u001b[1;33m)\u001b[0m\u001b[1;33m\u001b[0m\u001b[0m\n\u001b[1;32m--> 588\u001b[1;33m         \u001b[0mjob\u001b[0m \u001b[1;33m=\u001b[0m \u001b[0mself\u001b[0m\u001b[1;33m.\u001b[0m\u001b[0m_backend\u001b[0m\u001b[1;33m.\u001b[0m\u001b[0mapply_async\u001b[0m\u001b[1;33m(\u001b[0m\u001b[0mbatch\u001b[0m\u001b[1;33m,\u001b[0m \u001b[0mcallback\u001b[0m\u001b[1;33m=\u001b[0m\u001b[0mcb\u001b[0m\u001b[1;33m)\u001b[0m\u001b[1;33m\u001b[0m\u001b[0m\n\u001b[0m\u001b[0;32m    589\u001b[0m         \u001b[0mself\u001b[0m\u001b[1;33m.\u001b[0m\u001b[0m_jobs\u001b[0m\u001b[1;33m.\u001b[0m\u001b[0mappend\u001b[0m\u001b[1;33m(\u001b[0m\u001b[0mjob\u001b[0m\u001b[1;33m)\u001b[0m\u001b[1;33m\u001b[0m\u001b[0m\n\u001b[0;32m    590\u001b[0m \u001b[1;33m\u001b[0m\u001b[0m\n",
      "\u001b[1;32m~\\Anaconda3\\lib\\site-packages\\sklearn\\externals\\joblib\\_parallel_backends.py\u001b[0m in \u001b[0;36mapply_async\u001b[1;34m(self, func, callback)\u001b[0m\n\u001b[0;32m    109\u001b[0m     \u001b[1;32mdef\u001b[0m \u001b[0mapply_async\u001b[0m\u001b[1;33m(\u001b[0m\u001b[0mself\u001b[0m\u001b[1;33m,\u001b[0m \u001b[0mfunc\u001b[0m\u001b[1;33m,\u001b[0m \u001b[0mcallback\u001b[0m\u001b[1;33m=\u001b[0m\u001b[1;32mNone\u001b[0m\u001b[1;33m)\u001b[0m\u001b[1;33m:\u001b[0m\u001b[1;33m\u001b[0m\u001b[0m\n\u001b[0;32m    110\u001b[0m         \u001b[1;34m\"\"\"Schedule a func to be run\"\"\"\u001b[0m\u001b[1;33m\u001b[0m\u001b[0m\n\u001b[1;32m--> 111\u001b[1;33m         \u001b[0mresult\u001b[0m \u001b[1;33m=\u001b[0m \u001b[0mImmediateResult\u001b[0m\u001b[1;33m(\u001b[0m\u001b[0mfunc\u001b[0m\u001b[1;33m)\u001b[0m\u001b[1;33m\u001b[0m\u001b[0m\n\u001b[0m\u001b[0;32m    112\u001b[0m         \u001b[1;32mif\u001b[0m \u001b[0mcallback\u001b[0m\u001b[1;33m:\u001b[0m\u001b[1;33m\u001b[0m\u001b[0m\n\u001b[0;32m    113\u001b[0m             \u001b[0mcallback\u001b[0m\u001b[1;33m(\u001b[0m\u001b[0mresult\u001b[0m\u001b[1;33m)\u001b[0m\u001b[1;33m\u001b[0m\u001b[0m\n",
      "\u001b[1;32m~\\Anaconda3\\lib\\site-packages\\sklearn\\externals\\joblib\\_parallel_backends.py\u001b[0m in \u001b[0;36m__init__\u001b[1;34m(self, batch)\u001b[0m\n\u001b[0;32m    330\u001b[0m         \u001b[1;31m# Don't delay the application, to avoid keeping the input\u001b[0m\u001b[1;33m\u001b[0m\u001b[1;33m\u001b[0m\u001b[0m\n\u001b[0;32m    331\u001b[0m         \u001b[1;31m# arguments in memory\u001b[0m\u001b[1;33m\u001b[0m\u001b[1;33m\u001b[0m\u001b[0m\n\u001b[1;32m--> 332\u001b[1;33m         \u001b[0mself\u001b[0m\u001b[1;33m.\u001b[0m\u001b[0mresults\u001b[0m \u001b[1;33m=\u001b[0m \u001b[0mbatch\u001b[0m\u001b[1;33m(\u001b[0m\u001b[1;33m)\u001b[0m\u001b[1;33m\u001b[0m\u001b[0m\n\u001b[0m\u001b[0;32m    333\u001b[0m \u001b[1;33m\u001b[0m\u001b[0m\n\u001b[0;32m    334\u001b[0m     \u001b[1;32mdef\u001b[0m \u001b[0mget\u001b[0m\u001b[1;33m(\u001b[0m\u001b[0mself\u001b[0m\u001b[1;33m)\u001b[0m\u001b[1;33m:\u001b[0m\u001b[1;33m\u001b[0m\u001b[0m\n",
      "\u001b[1;32m~\\Anaconda3\\lib\\site-packages\\sklearn\\externals\\joblib\\parallel.py\u001b[0m in \u001b[0;36m__call__\u001b[1;34m(self)\u001b[0m\n\u001b[0;32m    129\u001b[0m \u001b[1;33m\u001b[0m\u001b[0m\n\u001b[0;32m    130\u001b[0m     \u001b[1;32mdef\u001b[0m \u001b[0m__call__\u001b[0m\u001b[1;33m(\u001b[0m\u001b[0mself\u001b[0m\u001b[1;33m)\u001b[0m\u001b[1;33m:\u001b[0m\u001b[1;33m\u001b[0m\u001b[0m\n\u001b[1;32m--> 131\u001b[1;33m         \u001b[1;32mreturn\u001b[0m \u001b[1;33m[\u001b[0m\u001b[0mfunc\u001b[0m\u001b[1;33m(\u001b[0m\u001b[1;33m*\u001b[0m\u001b[0margs\u001b[0m\u001b[1;33m,\u001b[0m \u001b[1;33m**\u001b[0m\u001b[0mkwargs\u001b[0m\u001b[1;33m)\u001b[0m \u001b[1;32mfor\u001b[0m \u001b[0mfunc\u001b[0m\u001b[1;33m,\u001b[0m \u001b[0margs\u001b[0m\u001b[1;33m,\u001b[0m \u001b[0mkwargs\u001b[0m \u001b[1;32min\u001b[0m \u001b[0mself\u001b[0m\u001b[1;33m.\u001b[0m\u001b[0mitems\u001b[0m\u001b[1;33m]\u001b[0m\u001b[1;33m\u001b[0m\u001b[0m\n\u001b[0m\u001b[0;32m    132\u001b[0m \u001b[1;33m\u001b[0m\u001b[0m\n\u001b[0;32m    133\u001b[0m     \u001b[1;32mdef\u001b[0m \u001b[0m__len__\u001b[0m\u001b[1;33m(\u001b[0m\u001b[0mself\u001b[0m\u001b[1;33m)\u001b[0m\u001b[1;33m:\u001b[0m\u001b[1;33m\u001b[0m\u001b[0m\n",
      "\u001b[1;32m~\\Anaconda3\\lib\\site-packages\\sklearn\\externals\\joblib\\parallel.py\u001b[0m in \u001b[0;36m<listcomp>\u001b[1;34m(.0)\u001b[0m\n\u001b[0;32m    129\u001b[0m \u001b[1;33m\u001b[0m\u001b[0m\n\u001b[0;32m    130\u001b[0m     \u001b[1;32mdef\u001b[0m \u001b[0m__call__\u001b[0m\u001b[1;33m(\u001b[0m\u001b[0mself\u001b[0m\u001b[1;33m)\u001b[0m\u001b[1;33m:\u001b[0m\u001b[1;33m\u001b[0m\u001b[0m\n\u001b[1;32m--> 131\u001b[1;33m         \u001b[1;32mreturn\u001b[0m \u001b[1;33m[\u001b[0m\u001b[0mfunc\u001b[0m\u001b[1;33m(\u001b[0m\u001b[1;33m*\u001b[0m\u001b[0margs\u001b[0m\u001b[1;33m,\u001b[0m \u001b[1;33m**\u001b[0m\u001b[0mkwargs\u001b[0m\u001b[1;33m)\u001b[0m \u001b[1;32mfor\u001b[0m \u001b[0mfunc\u001b[0m\u001b[1;33m,\u001b[0m \u001b[0margs\u001b[0m\u001b[1;33m,\u001b[0m \u001b[0mkwargs\u001b[0m \u001b[1;32min\u001b[0m \u001b[0mself\u001b[0m\u001b[1;33m.\u001b[0m\u001b[0mitems\u001b[0m\u001b[1;33m]\u001b[0m\u001b[1;33m\u001b[0m\u001b[0m\n\u001b[0m\u001b[0;32m    132\u001b[0m \u001b[1;33m\u001b[0m\u001b[0m\n\u001b[0;32m    133\u001b[0m     \u001b[1;32mdef\u001b[0m \u001b[0m__len__\u001b[0m\u001b[1;33m(\u001b[0m\u001b[0mself\u001b[0m\u001b[1;33m)\u001b[0m\u001b[1;33m:\u001b[0m\u001b[1;33m\u001b[0m\u001b[0m\n",
      "\u001b[1;32m~\\Anaconda3\\lib\\site-packages\\sklearn\\model_selection\\_validation.py\u001b[0m in \u001b[0;36m_fit_and_score\u001b[1;34m(estimator, X, y, scorer, train, test, verbose, parameters, fit_params, return_train_score, return_parameters, return_n_test_samples, return_times, error_score)\u001b[0m\n\u001b[0;32m    456\u001b[0m             \u001b[0mestimator\u001b[0m\u001b[1;33m.\u001b[0m\u001b[0mfit\u001b[0m\u001b[1;33m(\u001b[0m\u001b[0mX_train\u001b[0m\u001b[1;33m,\u001b[0m \u001b[1;33m**\u001b[0m\u001b[0mfit_params\u001b[0m\u001b[1;33m)\u001b[0m\u001b[1;33m\u001b[0m\u001b[0m\n\u001b[0;32m    457\u001b[0m         \u001b[1;32melse\u001b[0m\u001b[1;33m:\u001b[0m\u001b[1;33m\u001b[0m\u001b[0m\n\u001b[1;32m--> 458\u001b[1;33m             \u001b[0mestimator\u001b[0m\u001b[1;33m.\u001b[0m\u001b[0mfit\u001b[0m\u001b[1;33m(\u001b[0m\u001b[0mX_train\u001b[0m\u001b[1;33m,\u001b[0m \u001b[0my_train\u001b[0m\u001b[1;33m,\u001b[0m \u001b[1;33m**\u001b[0m\u001b[0mfit_params\u001b[0m\u001b[1;33m)\u001b[0m\u001b[1;33m\u001b[0m\u001b[0m\n\u001b[0m\u001b[0;32m    459\u001b[0m \u001b[1;33m\u001b[0m\u001b[0m\n\u001b[0;32m    460\u001b[0m     \u001b[1;32mexcept\u001b[0m \u001b[0mException\u001b[0m \u001b[1;32mas\u001b[0m \u001b[0me\u001b[0m\u001b[1;33m:\u001b[0m\u001b[1;33m\u001b[0m\u001b[0m\n",
      "\u001b[1;32m~\\Anaconda3\\lib\\site-packages\\sklearn\\ensemble\\gradient_boosting.py\u001b[0m in \u001b[0;36mfit\u001b[1;34m(self, X, y, sample_weight, monitor)\u001b[0m\n\u001b[0;32m   1032\u001b[0m         \u001b[1;31m# fit the boosting stages\u001b[0m\u001b[1;33m\u001b[0m\u001b[1;33m\u001b[0m\u001b[0m\n\u001b[0;32m   1033\u001b[0m         n_stages = self._fit_stages(X, y, y_pred, sample_weight, random_state,\n\u001b[1;32m-> 1034\u001b[1;33m                                     begin_at_stage, monitor, X_idx_sorted)\n\u001b[0m\u001b[0;32m   1035\u001b[0m         \u001b[1;31m# change shape of arrays after fit (early-stopping or additional ests)\u001b[0m\u001b[1;33m\u001b[0m\u001b[1;33m\u001b[0m\u001b[0m\n\u001b[0;32m   1036\u001b[0m         \u001b[1;32mif\u001b[0m \u001b[0mn_stages\u001b[0m \u001b[1;33m!=\u001b[0m \u001b[0mself\u001b[0m\u001b[1;33m.\u001b[0m\u001b[0mestimators_\u001b[0m\u001b[1;33m.\u001b[0m\u001b[0mshape\u001b[0m\u001b[1;33m[\u001b[0m\u001b[1;36m0\u001b[0m\u001b[1;33m]\u001b[0m\u001b[1;33m:\u001b[0m\u001b[1;33m\u001b[0m\u001b[0m\n",
      "\u001b[1;32m~\\Anaconda3\\lib\\site-packages\\sklearn\\ensemble\\gradient_boosting.py\u001b[0m in \u001b[0;36m_fit_stages\u001b[1;34m(self, X, y, y_pred, sample_weight, random_state, begin_at_stage, monitor, X_idx_sorted)\u001b[0m\n\u001b[0;32m   1087\u001b[0m             y_pred = self._fit_stage(i, X, y, y_pred, sample_weight,\n\u001b[0;32m   1088\u001b[0m                                      \u001b[0msample_mask\u001b[0m\u001b[1;33m,\u001b[0m \u001b[0mrandom_state\u001b[0m\u001b[1;33m,\u001b[0m \u001b[0mX_idx_sorted\u001b[0m\u001b[1;33m,\u001b[0m\u001b[1;33m\u001b[0m\u001b[0m\n\u001b[1;32m-> 1089\u001b[1;33m                                      X_csc, X_csr)\n\u001b[0m\u001b[0;32m   1090\u001b[0m \u001b[1;33m\u001b[0m\u001b[0m\n\u001b[0;32m   1091\u001b[0m             \u001b[1;31m# track deviance (= loss)\u001b[0m\u001b[1;33m\u001b[0m\u001b[1;33m\u001b[0m\u001b[0m\n",
      "\u001b[1;32m~\\Anaconda3\\lib\\site-packages\\sklearn\\ensemble\\gradient_boosting.py\u001b[0m in \u001b[0;36m_fit_stage\u001b[1;34m(self, i, X, y, y_pred, sample_weight, sample_mask, random_state, X_idx_sorted, X_csc, X_csr)\u001b[0m\n\u001b[0;32m    786\u001b[0m             \u001b[1;32melse\u001b[0m\u001b[1;33m:\u001b[0m\u001b[1;33m\u001b[0m\u001b[0m\n\u001b[0;32m    787\u001b[0m                 tree.fit(X, residual, sample_weight=sample_weight,\n\u001b[1;32m--> 788\u001b[1;33m                          check_input=False, X_idx_sorted=X_idx_sorted)\n\u001b[0m\u001b[0;32m    789\u001b[0m \u001b[1;33m\u001b[0m\u001b[0m\n\u001b[0;32m    790\u001b[0m             \u001b[1;31m# update tree leaves\u001b[0m\u001b[1;33m\u001b[0m\u001b[1;33m\u001b[0m\u001b[0m\n",
      "\u001b[1;32m~\\Anaconda3\\lib\\site-packages\\sklearn\\tree\\tree.py\u001b[0m in \u001b[0;36mfit\u001b[1;34m(self, X, y, sample_weight, check_input, X_idx_sorted)\u001b[0m\n\u001b[0;32m   1122\u001b[0m             \u001b[0msample_weight\u001b[0m\u001b[1;33m=\u001b[0m\u001b[0msample_weight\u001b[0m\u001b[1;33m,\u001b[0m\u001b[1;33m\u001b[0m\u001b[0m\n\u001b[0;32m   1123\u001b[0m             \u001b[0mcheck_input\u001b[0m\u001b[1;33m=\u001b[0m\u001b[0mcheck_input\u001b[0m\u001b[1;33m,\u001b[0m\u001b[1;33m\u001b[0m\u001b[0m\n\u001b[1;32m-> 1124\u001b[1;33m             X_idx_sorted=X_idx_sorted)\n\u001b[0m\u001b[0;32m   1125\u001b[0m         \u001b[1;32mreturn\u001b[0m \u001b[0mself\u001b[0m\u001b[1;33m\u001b[0m\u001b[0m\n\u001b[0;32m   1126\u001b[0m \u001b[1;33m\u001b[0m\u001b[0m\n",
      "\u001b[1;32m~\\Anaconda3\\lib\\site-packages\\sklearn\\tree\\tree.py\u001b[0m in \u001b[0;36mfit\u001b[1;34m(self, X, y, sample_weight, check_input, X_idx_sorted)\u001b[0m\n\u001b[0;32m    360\u001b[0m                                            min_impurity_split)\n\u001b[0;32m    361\u001b[0m \u001b[1;33m\u001b[0m\u001b[0m\n\u001b[1;32m--> 362\u001b[1;33m         \u001b[0mbuilder\u001b[0m\u001b[1;33m.\u001b[0m\u001b[0mbuild\u001b[0m\u001b[1;33m(\u001b[0m\u001b[0mself\u001b[0m\u001b[1;33m.\u001b[0m\u001b[0mtree_\u001b[0m\u001b[1;33m,\u001b[0m \u001b[0mX\u001b[0m\u001b[1;33m,\u001b[0m \u001b[0my\u001b[0m\u001b[1;33m,\u001b[0m \u001b[0msample_weight\u001b[0m\u001b[1;33m,\u001b[0m \u001b[0mX_idx_sorted\u001b[0m\u001b[1;33m)\u001b[0m\u001b[1;33m\u001b[0m\u001b[0m\n\u001b[0m\u001b[0;32m    363\u001b[0m \u001b[1;33m\u001b[0m\u001b[0m\n\u001b[0;32m    364\u001b[0m         \u001b[1;32mif\u001b[0m \u001b[0mself\u001b[0m\u001b[1;33m.\u001b[0m\u001b[0mn_outputs_\u001b[0m \u001b[1;33m==\u001b[0m \u001b[1;36m1\u001b[0m\u001b[1;33m:\u001b[0m\u001b[1;33m\u001b[0m\u001b[0m\n",
      "\u001b[1;31mKeyboardInterrupt\u001b[0m: "
     ]
    }
   ],
   "source": [
    "# GRID SEARCH FOR MAX_DEPTH (GBT)\n",
    "params = [{'max_depth':[5,7,9]}]  #vrednosti parametara koje treba probati\n",
    "\n",
    "grid = GridSearchCV(GradientBoostingClassifier(), params, cv=5, scoring='recall')\n",
    "grid.fit(X_train,y_train)"
   ]
  },
  {
   "cell_type": "code",
   "execution_count": null,
   "metadata": {
    "collapsed": true
   },
   "outputs": [],
   "source": [
    "print('Best param: ',grid.best_params_)\n",
    "print(grid.cv_results_['mean_test_score'])\n",
    "print(grid.cv_results_['params']) #best max_depth: 20"
   ]
  },
  {
   "cell_type": "markdown",
   "metadata": {},
   "source": [
    "### Optimizacija parametra min_samples_leaf kod GBT-a"
   ]
  },
  {
   "cell_type": "code",
   "execution_count": null,
   "metadata": {
    "collapsed": true
   },
   "outputs": [],
   "source": [
    "# GRID SEARCH FOR min_samples_leaf (GBT)\n",
    "\n",
    "params = [{'min_samples_leaf':[1,2,3,4,5,6,7,8,9,10]}]  #vrednosti parametara koje treba probati\n",
    "\n",
    "grid = GridSearchCV(DecisionTreeClassifier(), params, cv=5, scoring='recall')\n",
    "grid.fit(X_train,y_train)"
   ]
  },
  {
   "cell_type": "code",
   "execution_count": null,
   "metadata": {
    "collapsed": true
   },
   "outputs": [],
   "source": [
    "print('Best param: ',grid.best_params_)\n",
    "print(grid.cv_results_['mean_test_score'])\n",
    "print(grid.cv_results_['params']) #best max_depth: 20"
   ]
  },
  {
   "cell_type": "markdown",
   "metadata": {},
   "source": [
    "## Pokretanje modela sa optimizovanim parametrima"
   ]
  },
  {
   "cell_type": "markdown",
   "metadata": {},
   "source": [
    "### Logistička regresija"
   ]
  },
  {
   "cell_type": "code",
   "execution_count": 167,
   "metadata": {
    "scrolled": true
   },
   "outputs": [
    {
     "name": "stdout",
     "output_type": "stream",
     "text": [
      "Tacnost klasifikacije: 0.933466666667\n",
      "Preciznost: 0.590909090909\n",
      "Odziv: 0.0155564419625\n"
     ]
    }
   ],
   "source": [
    "lr_model = LogisticRegression(C=0.001).fit(X_train, y_train)\n",
    "predictions = lr_model.predict(X_test)\n",
    "\n",
    "print('Tacnost klasifikacije: ' + str(accuracy_score(y_test, predictions)))\n",
    "print('Preciznost: ' +str(precision_score(y_test, predictions)))\n",
    "print('Odziv: ' + str(recall_score(y_test, predictions)))"
   ]
  },
  {
   "cell_type": "markdown",
   "metadata": {},
   "source": [
    "### Drvo odlučivanja"
   ]
  },
  {
   "cell_type": "code",
   "execution_count": 168,
   "metadata": {
    "scrolled": true
   },
   "outputs": [
    {
     "name": "stdout",
     "output_type": "stream",
     "text": [
      "Drvo odlucivanja\n",
      "Tacnost klasifikacije: 0.93592\n",
      "Preciznost: 0.598113207547\n",
      "Odziv: 0.126445951336\n"
     ]
    }
   ],
   "source": [
    "tree = DecisionTreeClassifier(max_depth=20,min_samples_leaf=1,max_leaf_nodes=4, random_state=42)\n",
    "tree.fit(X_train, y_train)\n",
    "print('Drvo odlucivanja')\n",
    "print('Tacnost klasifikacije: ' + str(accuracy_score(y_test, tree_pred)))\n",
    "print('Preciznost: ' +str(precision_score(y_test, tree_pred)))\n",
    "print('Odziv: ' + str(recall_score(y_test, tree_pred)))"
   ]
  },
  {
   "cell_type": "markdown",
   "metadata": {},
   "source": [
    "### Random forest"
   ]
  },
  {
   "cell_type": "markdown",
   "metadata": {},
   "source": [
    "### GBT"
   ]
  },
  {
   "cell_type": "code",
   "execution_count": null,
   "metadata": {
    "collapsed": true
   },
   "outputs": [],
   "source": [
    "#UBACITI OPTIMALNE PARAMETRE\n",
    "# gb_model=  GradientBoostingClassifier(n_estimators=500)\n",
    "\n",
    "# gb_model.fit(X_train, y_train)\n",
    "\n",
    "# gb_pred= gb_model.predict(X_test)\n",
    "# print('Tacnost klasifikacije: ' + str(accuracy_score(y_test, gb_pred)))\n",
    "# print('Preciznost: ' +str(precision_score(y_test, gb_pred)))\n",
    "# print('Odziv: ' + str(recall_score(y_test, gb_pred)))"
   ]
  },
  {
   "cell_type": "markdown",
   "metadata": {},
   "source": [
    "# Balansiranje klasa"
   ]
  },
  {
   "cell_type": "code",
   "execution_count": 169,
   "metadata": {},
   "outputs": [
    {
     "name": "stdout",
     "output_type": "stream",
     "text": [
      "Tacnost klasifikacije: 0.918853333333\n",
      "Preciznost: 0.392282958199\n",
      "Odziv: 0.38930993219\n"
     ]
    }
   ],
   "source": [
    "#BALANSIRANA LR\n",
    "\n",
    "lr_model_balanced = LogisticRegression(C=1,class_weight={0: 1.,1: 10.}).fit(X_train, y_train)\n",
    "predictions_balanced = lr_model_balanced.predict(X_test)\n",
    "print('Tacnost klasifikacije: ' + str(accuracy_score(y_test, predictions_balanced)))\n",
    "print('Preciznost: ' +str(precision_score(y_test, predictions_balanced)))\n",
    "print('Odziv: ' + str(recall_score(y_test, predictions_balanced)))"
   ]
  },
  {
   "cell_type": "code",
   "execution_count": 170,
   "metadata": {},
   "outputs": [
    {
     "name": "stdout",
     "output_type": "stream",
     "text": [
      "Tacnost klasifikacije: 0.82384\n",
      "Preciznost: 0.227133537478\n",
      "Odziv: 0.680494615078\n"
     ]
    }
   ],
   "source": [
    "# BALANCED DT\n",
    "\n",
    "dt_model_balanced = DecisionTreeClassifier(min_samples_leaf=1,max_depth=20,max_leaf_nodes=4,class_weight={0: 1.,1: 10.}).fit(X_train, y_train)\n",
    "predictions_balanced = dt_model_balanced.predict(X_test)\n",
    "print('Tacnost klasifikacije: ' + str(accuracy_score(y_test, predictions_balanced)))\n",
    "print('Preciznost: ' +str(precision_score(y_test, predictions_balanced)))\n",
    "print('Odziv: ' + str(recall_score(y_test, predictions_balanced)))"
   ]
  },
  {
   "cell_type": "code",
   "execution_count": 171,
   "metadata": {},
   "outputs": [
    {
     "name": "stdout",
     "output_type": "stream",
     "text": [
      "Tacnost klasifikacije: 0.897653333333\n",
      "Preciznost: 0.288663067641\n",
      "Odziv: 0.362584762665\n"
     ]
    }
   ],
   "source": [
    "# BALANCED RF\n",
    "\n",
    "rf_model_balanced = RandomForestClassifier(n_estimators=500,class_weight={0: 1.,1: 10.}).fit(X_train, y_train)\n",
    "predictions_balanced = rf_model_balanced.predict(X_test)\n",
    "print('Tacnost klasifikacije: ' + str(accuracy_score(y_test, predictions_balanced)))\n",
    "print('Preciznost: ' +str(precision_score(y_test, predictions_balanced)))\n",
    "print('Odziv: ' + str(recall_score(y_test, predictions_balanced)))"
   ]
  },
  {
   "cell_type": "code",
   "execution_count": 117,
   "metadata": {},
   "outputs": [],
   "source": [
    "# from sklearn.externals.six import StringIO  \n",
    "# from IPython.display import Image  \n",
    "# from sklearn.tree import export_graphviz\n",
    "# import pydotplus\n",
    "\n",
    "# dot_data = StringIO()\n",
    "\n",
    "# export_graphviz(dt_model_balanced, out_file=dot_data,  \n",
    "#                 filled=True, rounded=True,\n",
    "#                 special_characters=True)\n",
    "\n",
    "# graph = pydotplus.graph_from_dot_data(dot_data.getvalue())  \n",
    "# Image(graph.create_png())\n"
   ]
  }
 ],
 "metadata": {
  "kernelspec": {
   "display_name": "Python 3",
   "language": "python",
   "name": "python3"
  },
  "language_info": {
   "codemirror_mode": {
    "name": "ipython",
    "version": 3
   },
   "file_extension": ".py",
   "mimetype": "text/x-python",
   "name": "python",
   "nbconvert_exporter": "python",
   "pygments_lexer": "ipython3",
   "version": "3.6.3"
  }
 },
 "nbformat": 4,
 "nbformat_minor": 2
}
